{
  "nbformat": 4,
  "nbformat_minor": 0,
  "metadata": {
    "colab": {
      "name": "HW_HSE_PichuzhkinaOV.ipynb",
      "version": "0.3.2",
      "provenance": [],
      "collapsed_sections": []
    },
    "language_info": {
      "codemirror_mode": {
        "name": "ipython",
        "version": 3
      },
      "file_extension": ".py",
      "mimetype": "text/x-python",
      "name": "python",
      "nbconvert_exporter": "python",
      "pygments_lexer": "ipython3",
      "version": "3.6.5"
    },
    "kernelspec": {
      "name": "python3",
      "display_name": "Python 3"
    },
    "accelerator": "GPU"
  },
  "cells": [
    {
      "cell_type": "markdown",
      "metadata": {
        "colab_type": "text",
        "id": "E7ME-ag0hoDA"
      },
      "source": [
        "# Данные"
      ]
    },
    {
      "cell_type": "code",
      "metadata": {
        "colab_type": "code",
        "id": "eVLBU4s9fF-q",
        "outputId": "375da49e-a508-4ae0-8ac5-a367ff80ea36",
        "colab": {
          "base_uri": "https://localhost:8080/",
          "height": 446
        }
      },
      "source": [
        "!wget https://www.dropbox.com/s/nd7v1fod89xla6j/vk_texts_with_sources.csv"
      ],
      "execution_count": 1,
      "outputs": [
        {
          "output_type": "stream",
          "text": [
            "--2019-06-10 04:27:53--  https://www.dropbox.com/s/nd7v1fod89xla6j/vk_texts_with_sources.csv\n",
            "Resolving www.dropbox.com (www.dropbox.com)... 162.125.9.1, 2620:100:601b:1::a27d:801\n",
            "Connecting to www.dropbox.com (www.dropbox.com)|162.125.9.1|:443... connected.\n",
            "HTTP request sent, awaiting response... 301 Moved Permanently\n",
            "Location: /s/raw/nd7v1fod89xla6j/vk_texts_with_sources.csv [following]\n",
            "--2019-06-10 04:27:54--  https://www.dropbox.com/s/raw/nd7v1fod89xla6j/vk_texts_with_sources.csv\n",
            "Reusing existing connection to www.dropbox.com:443.\n",
            "HTTP request sent, awaiting response... 302 Found\n",
            "Location: https://ucb19b080110bdf54572c1790616.dl.dropboxusercontent.com/cd/0/inline/AigcXtokpprwg57ctdRVkk-BFtjhll0TGdcYMgxvBecCmQOdz5Wt4pBxdrCDlcEcz9izF3UZvxETtExRZy1IQOxI_Yci-xeP9mTVqAZ0eMNo2A/file# [following]\n",
            "--2019-06-10 04:27:54--  https://ucb19b080110bdf54572c1790616.dl.dropboxusercontent.com/cd/0/inline/AigcXtokpprwg57ctdRVkk-BFtjhll0TGdcYMgxvBecCmQOdz5Wt4pBxdrCDlcEcz9izF3UZvxETtExRZy1IQOxI_Yci-xeP9mTVqAZ0eMNo2A/file\n",
            "Resolving ucb19b080110bdf54572c1790616.dl.dropboxusercontent.com (ucb19b080110bdf54572c1790616.dl.dropboxusercontent.com)... 162.125.9.6, 2620:100:601f:6::a27d:906\n",
            "Connecting to ucb19b080110bdf54572c1790616.dl.dropboxusercontent.com (ucb19b080110bdf54572c1790616.dl.dropboxusercontent.com)|162.125.9.6|:443... connected.\n",
            "HTTP request sent, awaiting response... 200 OK\n",
            "Length: 14406837 (14M) [text/plain]\n",
            "Saving to: ‘vk_texts_with_sources.csv.4’\n",
            "\n",
            "vk_texts_with_sourc 100%[===================>]  13.74M  57.8MB/s    in 0.2s    \n",
            "\n",
            "2019-06-10 04:27:55 (57.8 MB/s) - ‘vk_texts_with_sources.csv.4’ saved [14406837/14406837]\n",
            "\n"
          ],
          "name": "stdout"
        }
      ]
    },
    {
      "cell_type": "code",
      "metadata": {
        "colab_type": "code",
        "id": "qxZMU8CBK664",
        "outputId": "a9715fcd-066b-443e-a3f4-f48403fd48b9",
        "colab": {
          "base_uri": "https://localhost:8080/",
          "height": 204
        }
      },
      "source": [
        "import pandas as pd\n",
        "df = pd.read_csv('vk_texts_with_sources.csv', usecols = ['text', 'source'])\n",
        "df.head()"
      ],
      "execution_count": 2,
      "outputs": [
        {
          "output_type": "execute_result",
          "data": {
            "text/html": [
              "<div>\n",
              "<style scoped>\n",
              "    .dataframe tbody tr th:only-of-type {\n",
              "        vertical-align: middle;\n",
              "    }\n",
              "\n",
              "    .dataframe tbody tr th {\n",
              "        vertical-align: top;\n",
              "    }\n",
              "\n",
              "    .dataframe thead th {\n",
              "        text-align: right;\n",
              "    }\n",
              "</style>\n",
              "<table border=\"1\" class=\"dataframe\">\n",
              "  <thead>\n",
              "    <tr style=\"text-align: right;\">\n",
              "      <th></th>\n",
              "      <th>text</th>\n",
              "      <th>source</th>\n",
              "    </tr>\n",
              "  </thead>\n",
              "  <tbody>\n",
              "    <tr>\n",
              "      <th>0</th>\n",
              "      <td>Начальник Главного оперативного управления Ген...</td>\n",
              "      <td>mil</td>\n",
              "    </tr>\n",
              "    <tr>\n",
              "      <th>1</th>\n",
              "      <td>Артиллерийские подразделения общевойскового об...</td>\n",
              "      <td>mil</td>\n",
              "    </tr>\n",
              "    <tr>\n",
              "      <th>2</th>\n",
              "      <td>Подразделения морской пехоты Каспийской флотил...</td>\n",
              "      <td>mil</td>\n",
              "    </tr>\n",
              "    <tr>\n",
              "      <th>3</th>\n",
              "      <td>Команды на всеармейских этапах конкурсов АрМИ-...</td>\n",
              "      <td>mil</td>\n",
              "    </tr>\n",
              "    <tr>\n",
              "      <th>4</th>\n",
              "      <td>На большом учебно-методическом командирском сб...</td>\n",
              "      <td>mil</td>\n",
              "    </tr>\n",
              "  </tbody>\n",
              "</table>\n",
              "</div>"
            ],
            "text/plain": [
              "                                                text source\n",
              "0  Начальник Главного оперативного управления Ген...    mil\n",
              "1  Артиллерийские подразделения общевойскового об...    mil\n",
              "2  Подразделения морской пехоты Каспийской флотил...    mil\n",
              "3  Команды на всеармейских этапах конкурсов АрМИ-...    mil\n",
              "4  На большом учебно-методическом командирском сб...    mil"
            ]
          },
          "metadata": {
            "tags": []
          },
          "execution_count": 2
        }
      ]
    },
    {
      "cell_type": "markdown",
      "metadata": {
        "colab_type": "text",
        "id": "dYNCAr17MFA3"
      },
      "source": [
        "# Домашнее задание\n",
        "\n",
        "В этом домашнем задании вы будете решать задачу тематической классификации. Даны тексты, опубликованные в нескольких пабликах VK.com, посвященных государственным и муниципальным службам. Формально задача заключается в том, чтобы по тексту ($d$) определить в каком паблике он опубликован, то есть, к какому классу $c$ он принадлежит. "
      ]
    },
    {
      "cell_type": "markdown",
      "metadata": {
        "colab_type": "text",
        "id": "e2EnN-U7MemU"
      },
      "source": [
        "## Задание 1 [1 балл]. Описательные статистики\n",
        "Посчитайте:\n",
        "* количество текстов и количество классов\n",
        "* количество слов (без лемматизации и с лемматизацией) в коллекции\n",
        "* среднюю длину текста в словах и символах\n",
        "* найдите 5 самых частых существительных в текстах каждого паблика \n",
        "\n",
        "*Рекомендуем использовать pandas для расчета описательных статистик.*"
      ]
    },
    {
      "cell_type": "markdown",
      "metadata": {
        "colab_type": "text",
        "id": "fTJPlulvQSqQ"
      },
      "source": [
        "Разделите коллекцию текстов на обучающую и тестовую части. "
      ]
    },
    {
      "cell_type": "code",
      "metadata": {
        "id": "pB8qSkcgbPLG",
        "colab_type": "code",
        "outputId": "588ff757-7539-42d4-9245-0b878e32a435",
        "colab": {
          "base_uri": "https://localhost:8080/",
          "height": 131
        }
      },
      "source": [
        "!pip install pymorphy2[fast]"
      ],
      "execution_count": 3,
      "outputs": [
        {
          "output_type": "stream",
          "text": [
            "Requirement already satisfied: pymorphy2[fast] in /usr/local/lib/python3.6/dist-packages (0.8)\n",
            "Requirement already satisfied: docopt>=0.6 in /usr/local/lib/python3.6/dist-packages (from pymorphy2[fast]) (0.6.2)\n",
            "Requirement already satisfied: pymorphy2-dicts<3.0,>=2.4 in /usr/local/lib/python3.6/dist-packages (from pymorphy2[fast]) (2.4.393442.3710985)\n",
            "Requirement already satisfied: dawg-python>=0.7 in /usr/local/lib/python3.6/dist-packages (from pymorphy2[fast]) (0.7.2)\n",
            "Requirement already satisfied: DAWG>=0.7.3; extra == \"fast\" in /usr/local/lib/python3.6/dist-packages (from pymorphy2[fast]) (0.7.8)\n"
          ],
          "name": "stdout"
        }
      ]
    },
    {
      "cell_type": "code",
      "metadata": {
        "id": "oewpRSmXaoV6",
        "colab_type": "code",
        "colab": {}
      },
      "source": [
        "import numpy as np\n",
        "from sklearn.model_selection import train_test_split"
      ],
      "execution_count": 0,
      "outputs": []
    },
    {
      "cell_type": "code",
      "metadata": {
        "id": "WCvMOlW2gcqg",
        "colab_type": "code",
        "colab": {}
      },
      "source": [
        "df = df.dropna()"
      ],
      "execution_count": 0,
      "outputs": []
    },
    {
      "cell_type": "code",
      "metadata": {
        "id": "_aPFcx_EcnzM",
        "colab_type": "code",
        "outputId": "68d4f333-ec6a-4362-9e55-08f4dc62df06",
        "colab": {
          "base_uri": "https://localhost:8080/",
          "height": 34
        }
      },
      "source": [
        "len(df[\"text\"]) #количество текстов"
      ],
      "execution_count": 6,
      "outputs": [
        {
          "output_type": "execute_result",
          "data": {
            "text/plain": [
              "11526"
            ]
          },
          "metadata": {
            "tags": []
          },
          "execution_count": 6
        }
      ]
    },
    {
      "cell_type": "code",
      "metadata": {
        "id": "N-zApAdzc6px",
        "colab_type": "code",
        "outputId": "6d6f3941-b6cf-4962-8d34-b0a97bbdc0fa",
        "colab": {
          "base_uri": "https://localhost:8080/",
          "height": 34
        }
      },
      "source": [
        "len(set(df[\"source\"])) #количество классов"
      ],
      "execution_count": 7,
      "outputs": [
        {
          "output_type": "execute_result",
          "data": {
            "text/plain": [
              "4"
            ]
          },
          "metadata": {
            "tags": []
          },
          "execution_count": 7
        }
      ]
    },
    {
      "cell_type": "code",
      "metadata": {
        "id": "_6mwG88peVp1",
        "colab_type": "code",
        "outputId": "52073963-9c53-4191-acd0-917656c62960",
        "colab": {
          "base_uri": "https://localhost:8080/",
          "height": 34
        }
      },
      "source": [
        "df[\"text\"].apply(lambda x: len(x.split(' '))).mean() #средняя длина в словах"
      ],
      "execution_count": 8,
      "outputs": [
        {
          "output_type": "execute_result",
          "data": {
            "text/plain": [
              "85.23789692868297"
            ]
          },
          "metadata": {
            "tags": []
          },
          "execution_count": 8
        }
      ]
    },
    {
      "cell_type": "code",
      "metadata": {
        "id": "G18pupgDdD79",
        "colab_type": "code",
        "outputId": "30920b0c-2fdb-448b-b27c-d5a21fa155b3",
        "colab": {
          "base_uri": "https://localhost:8080/",
          "height": 34
        }
      },
      "source": [
        "df[\"text\"].str.len().mean() #средняя длина в символах"
      ],
      "execution_count": 9,
      "outputs": [
        {
          "output_type": "execute_result",
          "data": {
            "text/plain": [
              "690.7630574353635"
            ]
          },
          "metadata": {
            "tags": []
          },
          "execution_count": 9
        }
      ]
    },
    {
      "cell_type": "code",
      "metadata": {
        "id": "hDFW4Ak7hi2_",
        "colab_type": "code",
        "colab": {}
      },
      "source": [
        "X_train, X_test, y_train, y_test = train_test_split(list(df[\"text\"]), list(df[\"source\"]))"
      ],
      "execution_count": 0,
      "outputs": []
    },
    {
      "cell_type": "markdown",
      "metadata": {
        "colab_type": "text",
        "id": "9yCVYfbpNhXd"
      },
      "source": [
        " ## Задание 2 [2 балла]. Классификация по правилам\n",
        " \n",
        " * Разработайте несколько правил вида \"Если встречается слово $w$, то текст относится к паблику $c$\"\n",
        " * Посчитайте, какую точность, полноту, $f$-меру и $accuracy$ вы получаете при классификации по правилам\n",
        " * Получилось ли у вас придумать правило, которое никогда не ошибается?"
      ]
    },
    {
      "cell_type": "code",
      "metadata": {
        "id": "d2lCFPT-grUg",
        "colab_type": "code",
        "outputId": "cc3e3ed3-3262-40b8-fe93-a95f302c79b3",
        "colab": {
          "base_uri": "https://localhost:8080/",
          "height": 34
        }
      },
      "source": [
        "set(df[\"source\"]) #посмотрим на то, какие классы вообще есть и на самые частотные слова по классам"
      ],
      "execution_count": 11,
      "outputs": [
        {
          "output_type": "execute_result",
          "data": {
            "text/plain": [
              "{'mchsgov', 'mil', 'mospolice', 'russianpost'}"
            ]
          },
          "metadata": {
            "tags": []
          },
          "execution_count": 11
        }
      ]
    },
    {
      "cell_type": "code",
      "metadata": {
        "id": "TMi9xhImhEsg",
        "colab_type": "code",
        "colab": {
          "base_uri": "https://localhost:8080/",
          "height": 51
        },
        "outputId": "60c8e184-ed3f-4a07-a226-3491ec705976"
      },
      "source": [
        "import nltk\n",
        "from collections import Counter\n",
        "from nltk.corpus import stopwords\n",
        "\n",
        "nltk.download(\"stopwords\")\n",
        "stopwords = stopwords.words(\"russian\")"
      ],
      "execution_count": 12,
      "outputs": [
        {
          "output_type": "stream",
          "text": [
            "[nltk_data] Downloading package stopwords to /root/nltk_data...\n",
            "[nltk_data]   Package stopwords is already up-to-date!\n"
          ],
          "name": "stdout"
        }
      ]
    },
    {
      "cell_type": "code",
      "metadata": {
        "id": "HETbiBZS2rI_",
        "colab_type": "code",
        "colab": {}
      },
      "source": [
        "def tokenize(text):\n",
        "    return ([word.strip('.,:;?!()\"\"''') for word in text.split(\" \")])"
      ],
      "execution_count": 0,
      "outputs": []
    },
    {
      "cell_type": "code",
      "metadata": {
        "id": "s5WM4_Rmp_GJ",
        "colab_type": "code",
        "colab": {}
      },
      "source": [
        "texts_mchsgov = ' '.join([X_train[i] for i in range(len(X_train)) if y_train[i] == 'mchsgov'])\n",
        "texts_mil = ' '.join([X_train[i] for i in range(len(X_train)) if y_train[i] == 'mil'])\n",
        "texts_mospolice = ' '.join([X_train[i] for i in range(len(X_train)) if y_train[i] == 'mospolice'])\n",
        "texts_russianpost = ' '.join([X_train[i] for i in range(len(X_train)) if y_train[i] == 'russianpost'])"
      ],
      "execution_count": 0,
      "outputs": []
    },
    {
      "cell_type": "code",
      "metadata": {
        "id": "m9ESO9kzz_tX",
        "colab_type": "code",
        "colab": {
          "base_uri": "https://localhost:8080/",
          "height": 187
        },
        "outputId": "c29888f1-7386-4407-87be-90b8d49f2a72"
      },
      "source": [
        "Counter([word for word in tokenize(texts_mchsgov) if word not in stopwords]).most_common(10)"
      ],
      "execution_count": 15,
      "outputs": [
        {
          "output_type": "execute_result",
          "data": {
            "text/plain": [
              "[('#МЧС', 1379),\n",
              " ('России', 1129),\n",
              " ('МЧС', 1104),\n",
              " ('#МЧСРОССИИ', 877),\n",
              " ('-', 315),\n",
              " ('В', 301),\n",
              " ('–', 294),\n",
              " ('безопасности', 234),\n",
              " ('<br><br>В', 206),\n",
              " ('#БудниМЧС', 181)]"
            ]
          },
          "metadata": {
            "tags": []
          },
          "execution_count": 15
        }
      ]
    },
    {
      "cell_type": "code",
      "metadata": {
        "id": "KCwosd9O1CEw",
        "colab_type": "code",
        "colab": {
          "base_uri": "https://localhost:8080/",
          "height": 187
        },
        "outputId": "5ca84159-0f23-4d91-d724-5ef165f64c2e"
      },
      "source": [
        "Counter([word for word in tokenize(texts_mil) if word not in stopwords]).most_common(10)"
      ],
      "execution_count": 16,
      "outputs": [
        {
          "output_type": "execute_result",
          "data": {
            "text/plain": [
              "[('<br>', 4129),\n",
              " ('России', 840),\n",
              " ('<br>#Минобороны', 653),\n",
              " ('–', 650),\n",
              " ('также', 644),\n",
              " ('обороны', 610),\n",
              " ('В', 599),\n",
              " ('<br>В', 578),\n",
              " ('военного', 558),\n",
              " ('ходе', 533)]"
            ]
          },
          "metadata": {
            "tags": []
          },
          "execution_count": 16
        }
      ]
    },
    {
      "cell_type": "code",
      "metadata": {
        "id": "yh6t4Qxe2MSQ",
        "colab_type": "code",
        "colab": {
          "base_uri": "https://localhost:8080/",
          "height": 187
        },
        "outputId": "2a4348a1-fd45-4a07-812a-b2967469a22d"
      },
      "source": [
        "Counter([word for word in tokenize(texts_mospolice) if word not in stopwords]).most_common(10)"
      ],
      "execution_count": 17,
      "outputs": [
        {
          "output_type": "execute_result",
          "data": {
            "text/plain": [
              "[('<br>', 4843),\n",
              " ('России', 2998),\n",
              " ('МВД', 2474),\n",
              " ('г', 2426),\n",
              " ('полиции', 2296),\n",
              " ('Москве', 2039),\n",
              " ('#полиция', 1896),\n",
              " ('ГУ', 1741),\n",
              " ('#Петровка38', 1344),\n",
              " ('–', 1320)]"
            ]
          },
          "metadata": {
            "tags": []
          },
          "execution_count": 17
        }
      ]
    },
    {
      "cell_type": "code",
      "metadata": {
        "id": "7EkePpiR4Mjo",
        "colab_type": "code",
        "colab": {
          "base_uri": "https://localhost:8080/",
          "height": 187
        },
        "outputId": "2e14b987-4581-4f0f-ad9d-8cc1076665a4"
      },
      "source": [
        "Counter([word for word in tokenize(texts_russianpost) if word not in stopwords]).most_common(10)"
      ],
      "execution_count": 18,
      "outputs": [
        {
          "output_type": "execute_result",
          "data": {
            "text/plain": [
              "[('России', 1681),\n",
              " ('–', 1132),\n",
              " ('В', 877),\n",
              " ('Почты', 796),\n",
              " ('почтовых', 652),\n",
              " ('-', 613),\n",
              " ('', 529),\n",
              " ('году', 524),\n",
              " ('почтовой', 485),\n",
              " ('года', 470)]"
            ]
          },
          "metadata": {
            "tags": []
          },
          "execution_count": 18
        }
      ]
    },
    {
      "cell_type": "markdown",
      "metadata": {
        "id": "7QHzzXK94WxX",
        "colab_type": "text"
      },
      "source": [
        "Правила:\n",
        "\n",
        "\n",
        "*   Если встречаются слова #МЧС, #МЧСРоссии, #БудниМЧС и МЧС, то текст относится к паблику mchsgov.\n",
        "*   Если встречаются слова #Минобороны, Минобороны и обороны, то текст относится к паблику mil.\n",
        "*   Если встречаются слова #МВД, МВД, #полиция и #Петровка38, то текст относится к паблику mospolice.\n",
        "*   Если встречается слово Почта, то текст относится к паблику russianpost."
      ]
    },
    {
      "cell_type": "code",
      "metadata": {
        "id": "M1zeLB5I5oz9",
        "colab_type": "code",
        "colab": {}
      },
      "source": [
        "import random\n",
        "from sklearn.metrics import accuracy_score, classification_report"
      ],
      "execution_count": 0,
      "outputs": []
    },
    {
      "cell_type": "code",
      "metadata": {
        "id": "D6vN7QdA6IKG",
        "colab_type": "code",
        "colab": {}
      },
      "source": [
        "def rule_based_classification(text):\n",
        "    for word in tokenize(text):\n",
        "        if word in ['#МЧС', '#МЧСРоссии', '#БудниМЧС', 'МЧС']:\n",
        "            return 'mchsgov'\n",
        "        if word in ['#Минобороны', 'Минобороны', 'обороны']:\n",
        "            return 'mil'\n",
        "        if word in ['МВД', '#МВД', '#полиция', '#Петровка38']:\n",
        "            return 'mospolice'\n",
        "        if word == 'Почта':\n",
        "            return 'russianpost'\n",
        "    return random.choice(['mchsgov', 'mil', 'mospolice', 'russianpost'])"
      ],
      "execution_count": 0,
      "outputs": []
    },
    {
      "cell_type": "code",
      "metadata": {
        "id": "TQopeCuT7uZK",
        "colab_type": "code",
        "colab": {}
      },
      "source": [
        "y_pred = [rule_based_classification(text) for text in X_test]"
      ],
      "execution_count": 0,
      "outputs": []
    },
    {
      "cell_type": "code",
      "metadata": {
        "id": "FAFr46n978tV",
        "colab_type": "code",
        "colab": {
          "base_uri": "https://localhost:8080/",
          "height": 204
        },
        "outputId": "7f9c09d7-7a11-4f9d-ab8e-c20bb31032cc"
      },
      "source": [
        "print(classification_report(y_test, y_pred)) #не очень хорошо"
      ],
      "execution_count": 22,
      "outputs": [
        {
          "output_type": "stream",
          "text": [
            "              precision    recall  f1-score   support\n",
            "\n",
            "     mchsgov       0.71      0.85      0.77       809\n",
            "         mil       0.65      0.39      0.49       758\n",
            "   mospolice       0.64      0.97      0.77       659\n",
            " russianpost       0.59      0.40      0.47       656\n",
            "\n",
            "    accuracy                           0.66      2882\n",
            "   macro avg       0.65      0.65      0.63      2882\n",
            "weighted avg       0.65      0.66      0.63      2882\n",
            "\n"
          ],
          "name": "stdout"
        }
      ]
    },
    {
      "cell_type": "code",
      "metadata": {
        "id": "Mh6wqfR58cN5",
        "colab_type": "code",
        "colab": {}
      },
      "source": [
        "#посчитаем accuracy для каждого правила\n",
        "\n",
        "def rule(word, text):\n",
        "    for i in tokenize(text):\n",
        "        if i == word:\n",
        "            return 1\n",
        "    return 0\n",
        "\n",
        "def accuracy_for_each_rule(word, label):\n",
        "    y_true = [1 if y_test[i] == label else 0 for i in range(len(y_test))]\n",
        "    y_pred = [rule(word, text) for text in X_test]\n",
        "    return accuracy_score(y_true, y_pred)"
      ],
      "execution_count": 0,
      "outputs": []
    },
    {
      "cell_type": "code",
      "metadata": {
        "id": "_9umo-RZ94Qf",
        "colab_type": "code",
        "colab": {
          "base_uri": "https://localhost:8080/",
          "height": 34
        },
        "outputId": "ab2f09c9-e90d-4d3b-94ec-6dbcc4ae2a15"
      },
      "source": [
        "accuracy_for_each_rule('#МЧС', 'mchsgov')"
      ],
      "execution_count": 24,
      "outputs": [
        {
          "output_type": "execute_result",
          "data": {
            "text/plain": [
              "0.892088827203331"
            ]
          },
          "metadata": {
            "tags": []
          },
          "execution_count": 24
        }
      ]
    },
    {
      "cell_type": "code",
      "metadata": {
        "id": "39c7PE1X-BT9",
        "colab_type": "code",
        "colab": {
          "base_uri": "https://localhost:8080/",
          "height": 34
        },
        "outputId": "fa8b3255-a746-4eb6-dc6b-387bc12d78bb"
      },
      "source": [
        "accuracy_for_each_rule('МЧС', 'mchsgov')"
      ],
      "execution_count": 25,
      "outputs": [
        {
          "output_type": "execute_result",
          "data": {
            "text/plain": [
              "0.8258154059680777"
            ]
          },
          "metadata": {
            "tags": []
          },
          "execution_count": 25
        }
      ]
    },
    {
      "cell_type": "code",
      "metadata": {
        "id": "UIHKSV3J-EA3",
        "colab_type": "code",
        "colab": {
          "base_uri": "https://localhost:8080/",
          "height": 34
        },
        "outputId": "644ec34d-f255-4bce-b428-b3ba70473e56"
      },
      "source": [
        "accuracy_for_each_rule('#МЧСРоссии', 'mchsgov')"
      ],
      "execution_count": 26,
      "outputs": [
        {
          "output_type": "execute_result",
          "data": {
            "text/plain": [
              "0.7192921582234559"
            ]
          },
          "metadata": {
            "tags": []
          },
          "execution_count": 26
        }
      ]
    },
    {
      "cell_type": "code",
      "metadata": {
        "id": "x2vpnyu3-G3Q",
        "colab_type": "code",
        "colab": {
          "base_uri": "https://localhost:8080/",
          "height": 34
        },
        "outputId": "71554821-d64d-4c68-90d1-b7f7ad2d29e2"
      },
      "source": [
        "accuracy_for_each_rule('#БудниМЧС', 'mchsgov')"
      ],
      "execution_count": 27,
      "outputs": [
        {
          "output_type": "execute_result",
          "data": {
            "text/plain": [
              "0.7449687716863289"
            ]
          },
          "metadata": {
            "tags": []
          },
          "execution_count": 27
        }
      ]
    },
    {
      "cell_type": "code",
      "metadata": {
        "id": "Yhpmk5IV-Ixe",
        "colab_type": "code",
        "colab": {
          "base_uri": "https://localhost:8080/",
          "height": 34
        },
        "outputId": "ffe16845-eeb8-465e-a9a2-c250b2baa30e"
      },
      "source": [
        "accuracy_for_each_rule('#Минобороны', 'mil')"
      ],
      "execution_count": 28,
      "outputs": [
        {
          "output_type": "execute_result",
          "data": {
            "text/plain": [
              "0.7383761276891048"
            ]
          },
          "metadata": {
            "tags": []
          },
          "execution_count": 28
        }
      ]
    },
    {
      "cell_type": "code",
      "metadata": {
        "id": "FTLu581v-Nib",
        "colab_type": "code",
        "colab": {
          "base_uri": "https://localhost:8080/",
          "height": 34
        },
        "outputId": "c79e7b66-c03a-42c1-ceaf-c054a291c021"
      },
      "source": [
        "accuracy_for_each_rule('Минобороны', 'mil')"
      ],
      "execution_count": 29,
      "outputs": [
        {
          "output_type": "execute_result",
          "data": {
            "text/plain": [
              "0.7623178348369188"
            ]
          },
          "metadata": {
            "tags": []
          },
          "execution_count": 29
        }
      ]
    },
    {
      "cell_type": "code",
      "metadata": {
        "id": "WWzXHrNX-Q6Z",
        "colab_type": "code",
        "colab": {
          "base_uri": "https://localhost:8080/",
          "height": 34
        },
        "outputId": "d5133dd9-f8f0-481e-ad25-e0cf4821deae"
      },
      "source": [
        "accuracy_for_each_rule('обороны', 'mil')"
      ],
      "execution_count": 30,
      "outputs": [
        {
          "output_type": "execute_result",
          "data": {
            "text/plain": [
              "0.7626648160999306"
            ]
          },
          "metadata": {
            "tags": []
          },
          "execution_count": 30
        }
      ]
    },
    {
      "cell_type": "code",
      "metadata": {
        "id": "OSPoA36P-SmG",
        "colab_type": "code",
        "colab": {
          "base_uri": "https://localhost:8080/",
          "height": 34
        },
        "outputId": "f37a6f36-d373-482d-8b8f-aa5f84771479"
      },
      "source": [
        "accuracy_for_each_rule('#МВД', 'mospolice')"
      ],
      "execution_count": 31,
      "outputs": [
        {
          "output_type": "execute_result",
          "data": {
            "text/plain": [
              "0.8272033310201249"
            ]
          },
          "metadata": {
            "tags": []
          },
          "execution_count": 31
        }
      ]
    },
    {
      "cell_type": "code",
      "metadata": {
        "id": "xWsHPR_N-ajW",
        "colab_type": "code",
        "colab": {
          "base_uri": "https://localhost:8080/",
          "height": 34
        },
        "outputId": "6a778777-391e-4673-c792-260f06cf6d99"
      },
      "source": [
        "accuracy_for_each_rule('МВД', 'mospolice')"
      ],
      "execution_count": 32,
      "outputs": [
        {
          "output_type": "execute_result",
          "data": {
            "text/plain": [
              "0.8868841082581541"
            ]
          },
          "metadata": {
            "tags": []
          },
          "execution_count": 32
        }
      ]
    },
    {
      "cell_type": "code",
      "metadata": {
        "id": "04yHoNPp-ccu",
        "colab_type": "code",
        "colab": {
          "base_uri": "https://localhost:8080/",
          "height": 34
        },
        "outputId": "cbc9ef93-03eb-4c57-ea09-5afbe6717cf7"
      },
      "source": [
        "accuracy_for_each_rule('#полиция', 'mospolice')"
      ],
      "execution_count": 33,
      "outputs": [
        {
          "output_type": "execute_result",
          "data": {
            "text/plain": [
              "0.9760582928521859"
            ]
          },
          "metadata": {
            "tags": []
          },
          "execution_count": 33
        }
      ]
    },
    {
      "cell_type": "code",
      "metadata": {
        "id": "cJTpuLCj-guO",
        "colab_type": "code",
        "colab": {
          "base_uri": "https://localhost:8080/",
          "height": 34
        },
        "outputId": "f66cce25-8ffc-4d7a-cf15-f51b3112a875"
      },
      "source": [
        "accuracy_for_each_rule('#Петровка38', 'mospolice')"
      ],
      "execution_count": 34,
      "outputs": [
        {
          "output_type": "execute_result",
          "data": {
            "text/plain": [
              "0.9191533657182512"
            ]
          },
          "metadata": {
            "tags": []
          },
          "execution_count": 34
        }
      ]
    },
    {
      "cell_type": "code",
      "metadata": {
        "id": "JaClG2OW-jJQ",
        "colab_type": "code",
        "colab": {
          "base_uri": "https://localhost:8080/",
          "height": 34
        },
        "outputId": "ba2501f8-8b13-451f-9a4f-a8ae50f806f2"
      },
      "source": [
        "accuracy_for_each_rule('Почта', 'russianpost') #не получилось"
      ],
      "execution_count": 35,
      "outputs": [
        {
          "output_type": "execute_result",
          "data": {
            "text/plain": [
              "0.8143650242886884"
            ]
          },
          "metadata": {
            "tags": []
          },
          "execution_count": 35
        }
      ]
    },
    {
      "cell_type": "markdown",
      "metadata": {
        "colab_type": "text",
        "id": "22tJKQnaOjie"
      },
      "source": [
        "## Задание 3 [3 балла]. Baseline\n",
        "Используйте стандартный ```sklearn.pipeline``` для классификации текстов: \n",
        "* векторизация \n",
        "* $tf-idf$ взвешивание \n",
        "* ваш любимый метод классификации.\n",
        "\n",
        "\n",
        "Оцените результаты классификации по стандартным мерам качества и проведите анализ ошибок. Для этого рекомендуем визуализировать матрицу ошибок (confusion matrix). "
      ]
    },
    {
      "cell_type": "code",
      "metadata": {
        "id": "p8r1DySL-olU",
        "colab_type": "code",
        "colab": {}
      },
      "source": [
        "% matplotlib inline\n",
        "import matplotlib.pyplot as plt\n",
        "from sklearn.feature_extraction.text import TfidfTransformer\n",
        "from sklearn.feature_extraction.text import CountVectorizer\n",
        "from sklearn.pipeline import Pipeline\n",
        "from sklearn.svm import LinearSVC\n",
        "from sklearn.metrics import confusion_matrix"
      ],
      "execution_count": 0,
      "outputs": []
    },
    {
      "cell_type": "code",
      "metadata": {
        "id": "3B7OEvKm_shT",
        "colab_type": "code",
        "colab": {}
      },
      "source": [
        "categories = ['mchsgov', 'mil', 'mospolice', 'russianpost']\n",
        "    \n",
        "def plot_confusion_matrix(cm, title='Confusion matrix', cmap=plt.cm.Blues):\n",
        "    plt.imshow(cm, interpolation='nearest', cmap=cmap)\n",
        "    plt.title(title)\n",
        "    plt.colorbar()\n",
        "    tick_marks = np.arange(len(categories))\n",
        "    plt.xticks(tick_marks, categories, rotation=45)\n",
        "    plt.yticks(tick_marks, categories)\n",
        "    plt.tight_layout()\n",
        "    plt.ylabel('True label')\n",
        "    plt.xlabel('Predicted label')"
      ],
      "execution_count": 0,
      "outputs": []
    },
    {
      "cell_type": "code",
      "metadata": {
        "id": "nzg6jMnzDEz3",
        "colab_type": "code",
        "colab": {
          "base_uri": "https://localhost:8080/",
          "height": 328
        },
        "outputId": "b5581b94-d6b9-4b81-8c26-466f694724f6"
      },
      "source": [
        "clf = Pipeline([('vect', CountVectorizer(ngram_range = (2,3))), \n",
        "                ('tfidf', TfidfTransformer()), \n",
        "                ('clf', LinearSVC())])\n",
        "clf.fit(X_train, y_train)\n",
        "y_pred = clf.predict(X_test)\n",
        "print(f\"Accuracy: {accuracy_score(y_test, y_pred)}\")\n",
        "cm = confusion_matrix(y_test, y_pred)\n",
        "plot_confusion_matrix(cm)"
      ],
      "execution_count": 38,
      "outputs": [
        {
          "output_type": "stream",
          "text": [
            "Accuracy: 0.9680777238029147\n"
          ],
          "name": "stdout"
        },
        {
          "output_type": "display_data",
          "data": {
            "image/png": "[encoded data removed]",
            "text/plain": [
              "<Figure size 432x288 with 2 Axes>"
            ]
          },
          "metadata": {
            "tags": []
          }
        }
      ]
    },
    {
      "cell_type": "markdown",
      "metadata": {
        "colab_type": "text",
        "id": "I4m1rDQ3PAqO"
      },
      "source": [
        "## Задание 4 [2 балла]. Снижение размерности\n",
        "Добавьте в ваш ```sklearn.pipeline```  методы снижения размерности:  PCA / LSI / LSA / LDA / другое. Какие методы классификации разумно использовать после снижения размерности? Как изменились результаты классификации после добавления нового шага?"
      ]
    },
    {
      "cell_type": "code",
      "metadata": {
        "id": "sCqYD9p4EZhv",
        "colab_type": "code",
        "colab": {}
      },
      "source": [
        "from sklearn.decomposition import TruncatedSVD, LatentDirichletAllocation #PCA не работает с матрицами tf-idf"
      ],
      "execution_count": 0,
      "outputs": []
    },
    {
      "cell_type": "code",
      "metadata": {
        "id": "fCHPXnzCTE3J",
        "colab_type": "code",
        "colab": {
          "base_uri": "https://localhost:8080/",
          "height": 34
        },
        "outputId": "d19b47b3-dfaa-44ac-cf37-c43ad70dd2aa"
      },
      "source": [
        "clf = Pipeline([('vect', CountVectorizer(ngram_range = (2,3))), \n",
        "                ('tfidf', TfidfTransformer()),\n",
        "                ('svd', TruncatedSVD()),\n",
        "                ('clf', LinearSVC())])\n",
        "clf.fit(X_train, y_train)\n",
        "y_pred = clf.predict(X_test)\n",
        "print(f\"Accuracy: {accuracy_score(y_test, y_pred)}\")"
      ],
      "execution_count": 40,
      "outputs": [
        {
          "output_type": "stream",
          "text": [
            "Accuracy: 0.5850104094378904\n"
          ],
          "name": "stdout"
        }
      ]
    },
    {
      "cell_type": "code",
      "metadata": {
        "id": "Dc4CywSJTlRB",
        "colab_type": "code",
        "colab": {
          "base_uri": "https://localhost:8080/",
          "height": 34
        },
        "outputId": "227755f4-f0fa-4409-e4ad-3c52ef6006d2"
      },
      "source": [
        "clf = Pipeline([('vect', CountVectorizer(ngram_range = (2,3))), \n",
        "                ('tfidf', TfidfTransformer()),\n",
        "                ('lda', LatentDirichletAllocation()),\n",
        "                ('clf', LinearSVC())])\n",
        "clf.fit(X_train, y_train)\n",
        "y_pred = clf.predict(X_test)\n",
        "print(f\"Accuracy: {accuracy_score(y_test, y_pred)}\") #почему-то accuracy падает при снижении размерности"
      ],
      "execution_count": 41,
      "outputs": [
        {
          "output_type": "stream",
          "text": [
            "Accuracy: 0.44691186675919503\n"
          ],
          "name": "stdout"
        }
      ]
    },
    {
      "cell_type": "markdown",
      "metadata": {
        "colab_type": "text",
        "id": "7vVPaaVwPVwg"
      },
      "source": [
        "## Задание 5 [1 балл]. Лемматизация\n",
        "Посмотрите, как влияет лемматизация на качество классификации. Как изменится качество классификации, если вы используете ```CountVectorizer``` на словах или $n$-граммах на лемматизированных текстах?"
      ]
    },
    {
      "cell_type": "code",
      "metadata": {
        "id": "lKMbiwhQJ4aE",
        "colab_type": "code",
        "colab": {}
      },
      "source": [
        "from pymorphy2 import MorphAnalyzer"
      ],
      "execution_count": 0,
      "outputs": []
    },
    {
      "cell_type": "code",
      "metadata": {
        "id": "xEfByWxYJ-XP",
        "colab_type": "code",
        "colab": {}
      },
      "source": [
        "morph = MorphAnalyzer()\n",
        "\n",
        "def lemmatize(text):\n",
        "    return ([morph.parse(word)[0].normal_form for word in tokenize(text)])"
      ],
      "execution_count": 0,
      "outputs": []
    },
    {
      "cell_type": "code",
      "metadata": {
        "id": "jyVQDa_JKDgK",
        "colab_type": "code",
        "colab": {
          "base_uri": "https://localhost:8080/",
          "height": 34
        },
        "outputId": "e6fa6ac7-4523-4bf1-cf9e-65b01f841ab2"
      },
      "source": [
        "X_train_lemmas = [' '.join(lemmatize(text)) for text in X_train]\n",
        "X_test_lemmas = [' '.join(lemmatize(text)) for text in X_test]\n",
        "\n",
        "clf = Pipeline([('vect', CountVectorizer(ngram_range = (2,3))), \n",
        "                ('tfidf', TfidfTransformer()), \n",
        "                ('clf', LinearSVC())])\n",
        "clf.fit(X_train_lemmas, y_train)\n",
        "y_pred = clf.predict(X_test_lemmas)\n",
        "print(f\"Accuracy: {accuracy_score(y_test, y_pred)}\") #accuracy немного повысилась"
      ],
      "execution_count": 44,
      "outputs": [
        {
          "output_type": "stream",
          "text": [
            "Accuracy: 0.9712005551700208\n"
          ],
          "name": "stdout"
        }
      ]
    },
    {
      "cell_type": "markdown",
      "metadata": {
        "colab_type": "text",
        "id": "cdakRHahQp-l"
      },
      "source": [
        "## Задание 6 [3 балла]. Continious bag of words\n",
        "Для baseline решения мы использовали обычное представление текста в виде мешка слов. Попробуйте использовать другие модели представления текста – например, в виде непрерывного мешка слов, то есть, в виде набора эмбеддингов. Для того, чтобы получить вектор текста попробуйте:\n",
        "* усреднить все эмбеддинги слов, входящих в этот текст\n",
        "* усреднить все эмбеддинги слов, входящих в этот текст с $tf-idf$ весами\n",
        "* использовать любую модель эмбеддинга документа.\n",
        "\n",
        "Используйте любую модель эмбеддингов по вашему вкусу. \n",
        "\n",
        "\n",
        "Оцените результаты классификации по стандартным мерам качества и проведите анализ ошибок. Для этого рекомендуем визуализировать матрицу ошибок (confusion matrix). "
      ]
    },
    {
      "cell_type": "code",
      "metadata": {
        "id": "rM6z4VOQPFtt",
        "colab_type": "code",
        "colab": {}
      },
      "source": [
        "import gensim"
      ],
      "execution_count": 0,
      "outputs": []
    },
    {
      "cell_type": "code",
      "metadata": {
        "colab_type": "code",
        "outputId": "481fb618-c564-493b-a08c-ccc710a7a3e7",
        "id": "sdPlroAzfspp",
        "colab": {
          "base_uri": "https://localhost:8080/",
          "height": 204
        }
      },
      "source": [
        "!wget http://vectors.nlpl.eu/repository/11/180.zip"
      ],
      "execution_count": 46,
      "outputs": [
        {
          "output_type": "stream",
          "text": [
            "--2019-06-10 04:29:53--  http://vectors.nlpl.eu/repository/11/180.zip\n",
            "Resolving vectors.nlpl.eu (vectors.nlpl.eu)... 129.240.189.225\n",
            "Connecting to vectors.nlpl.eu (vectors.nlpl.eu)|129.240.189.225|:80... connected.\n",
            "HTTP request sent, awaiting response... 200 OK\n",
            "Length: 484452285 (462M) [application/zip]\n",
            "Saving to: ‘180.zip.4’\n",
            "\n",
            "180.zip.4           100%[===================>] 462.01M  23.0MB/s    in 22s     \n",
            "\n",
            "2019-06-10 04:30:16 (20.8 MB/s) - ‘180.zip.4’ saved [484452285/484452285]\n",
            "\n"
          ],
          "name": "stdout"
        }
      ]
    },
    {
      "cell_type": "code",
      "metadata": {
        "id": "bms4smyVjV4s",
        "colab_type": "code",
        "colab": {
          "base_uri": "https://localhost:8080/",
          "height": 148
        },
        "outputId": "c0204462-a86d-4b22-b7fa-6c36fb952f09"
      },
      "source": [
        "!unzip 180.zip"
      ],
      "execution_count": 47,
      "outputs": [
        {
          "output_type": "stream",
          "text": [
            "Archive:  180.zip\n",
            "replace README? [y]es, [n]o, [A]ll, [N]one, [r]ename: A\n",
            "  inflating: README                  \n",
            "  inflating: meta.json               \n",
            "  inflating: model.bin               \n",
            "  inflating: model.txt               \n"
          ],
          "name": "stdout"
        }
      ]
    },
    {
      "cell_type": "code",
      "metadata": {
        "id": "a116orcfkMZF",
        "colab_type": "code",
        "colab": {
          "base_uri": "https://localhost:8080/",
          "height": 276
        },
        "outputId": "4e8ffaa9-b5ad-41ba-ec12-9ade569d8351"
      },
      "source": [
        "!head model.txt"
      ],
      "execution_count": 48,
      "outputs": [
        {
          "output_type": "stream",
          "text": [
            "189193 300\n",
            "так_ADV 1.0967804 -2.2944486 1.9791678 0.3480437 0.40753922 1.3286122 -0.93368673 0.5494722 -0.6807762 -0.749637 -0.080936104 0.0657883 -0.8856494 0.5079396 -1.086411 -0.4331763 0.020482888 -0.005711998 -1.0036458 0.3172968 1.1956499 1.0685917 -0.89309484 0.74419886 0.44171312 -0.20080043 -2.6623638 0.1759832 -2.0019765 -0.56796205 -0.20350738 -0.7399762 0.80226004 1.4174094 0.10990121 1.2313192 1.66555 -0.2618713 1.7604357 -0.31903556 2.426693 -1.2458172 1.0440445 2.797897 -0.82489556 0.4360318 0.9231148 -0.18360819 -0.06358273 0.29669294 0.563888 2.55353 2.304695 -1.8354168 -0.68992484 -1.3858901 -1.5620509 -1.3749862 -2.1975157 1.106874 -1.191033 -1.6919045 1.298686 -1.6650962 0.765335 1.7246596 0.36263967 0.63627464 1.8661187 -0.21320938 0.12465114 1.4016855 1.3836783 -0.221807 -0.06359134 -0.6489555 1.0426704 0.032523163 -2.4626455 3.2399185 -1.4561642 -0.00015617782 -2.1234381 -2.1946747 -2.5850182 -0.23289078 0.2805085 1.0394206 -2.6780462 -0.07617694 -0.88362336 0.64979047 2.2822413 1.5245788 -0.052706778 1.4810644 -1.0669724 1.3186673 0.33882877 -0.08544282 2.0553036 0.31352252 -2.5240443 0.95207083 -0.7136112 -1.1406686 -3.2639513 2.0501766 1.030644 -1.7454411 -0.3580492 2.1014802 1.036236 -0.75109017 -0.486075 0.087713644 0.52515376 2.3160763 1.1250384 -3.303132 0.78317904 -0.24642365 -0.6400011 1.0263929 0.961937 1.8545392 0.5448975 -0.30396858 1.2876836 3.0888455 -1.7404565 -3.5069118 0.15819016 1.4731908 2.4563396 1.3729837 0.5419908 0.31848156 -1.435735 -0.92718613 -2.3849835 -1.414368 -1.0865172 0.9625899 -1.1447519 2.3551738 0.5410648 0.7056803 -0.21696945 1.6292019 1.2494777 0.56514347 -2.357073 0.7346662 -0.8147335 0.43178725 -1.5202926 1.1549335 -0.8018957 2.4982815 -1.2743229 2.2307663 -1.8152403 -2.0343919 -0.6778364 0.5040609 -0.46591407 -0.039412666 1.0584725 1.337497 -0.90824944 0.9871738 -1.1770704 -2.2429724 -0.29600647 1.2257212 0.65517193 -0.32111257 -1.7304553 -0.76232827 -0.053535003 0.23281984 -0.95789707 0.8585043 0.5859607 0.51814044 0.9148407 0.023977833 1.2829818 -2.3272493 1.6203849 -0.4330552 0.051956218 1.6541086 0.9835533 -0.6490529 0.66890115 -0.2647509 -0.38891885 -0.5091467 -1.7549558 -2.2992249 -0.98530406 0.85996217 -1.9670392 0.26907313 0.7482162 0.33709395 -1.3986721 -1.9041904 0.36266187 -0.27421668 -1.1691334 1.1694051 -1.7327256 -1.1168655 0.017077647 -0.7579609 -1.0994148 -0.839054 -0.41241398 -0.25801688 0.8118757 1.8546591 -0.48946378 0.42190725 -0.28447872 -3.0851378 1.0002345 -1.675362 -0.93490523 -0.38452882 1.831201 1.0109259 -2.674635 0.18883951 1.9665631 3.7889402 -2.1134558 3.7283251 -0.61471695 -0.75607616 0.8317079 0.3362513 -2.6199396 0.67328507 1.5428456 -1.2069672 1.3842175 -2.1026692 0.56212884 -0.93531466 -0.9123665 0.63305396 2.0393972 1.5277815 -0.13641222 0.6957588 1.8950691 -0.63797045 -2.0564327 0.7198036 0.33926278 -2.3420603 -4.290701 -0.23827836 0.5137263 1.062521 1.6868784 1.0223539 -0.92437 -1.1757971 0.3735029 3.6148684 0.2944565 1.7372745 1.2462198 -0.9987387 -1.2535462 0.93148404 2.0533524 -0.21815386 0.20002785 -0.44034436 1.241798 -1.1121799 1.7288289 -0.6743066 0.12190645 -0.05030694 -0.7275542 -1.4262681 0.26919496 2.3919816 -0.89550036 0.8902179 -2.3782806 0.90631187 3.2207503 -0.049595397\n",
            "быть_VERB 0.56827927 -0.3209115 -0.019124394 -1.9356475 -0.8124491 1.657973 -1.3159128 1.1186373 -2.0223322 -3.2186239 -0.8087832 -1.6359693 0.30781016 -1.9637547 1.1508301 0.09154594 1.499977 -1.9233339 -1.395698 0.4522272 1.3875449 -0.6991994 1.1241058 -0.8872212 1.5669478 0.105251916 -0.72891355 -1.7446259 -0.39187282 -0.21783888 0.99993414 -2.8352168 0.28585172 -1.2888701 -0.7390094 0.7050435 2.6338942 0.37333074 2.078776 -0.19290456 -0.73848265 -1.7742666 1.6497376 3.7614036 -1.2978705 -0.00728586 1.3725481 -1.5491337 -0.81334364 -0.7748071 -0.61844414 0.7076229 0.53189814 -0.519196 1.2863954 0.99337226 1.1154282 -0.930117 1.572236 -1.2262355 -0.86334157 0.61980397 -0.09515494 0.5440264 -0.50054914 0.32205996 -1.49439 0.63581914 2.5604725 0.62158006 -0.9675487 1.7475013 -1.055982 1.8056836 0.29194352 0.72323376 -0.2652101 -1.5487951 -1.2479311 0.6863535 -0.5887072 -0.25386146 -1.0167173 -2.9647908 -0.96875453 -1.6287156 -0.60758674 -0.5515135 -0.4176201 0.6098959 -2.8192685 2.5853198 0.85308856 0.87172407 -0.897581 -0.40489018 1.4343278 1.2818788 -0.1038449 3.5178578 3.2740445 -0.8202849 -1.8105402 0.011025606 0.237255 -4.524287 -2.5001287 1.012236 0.9220278 0.08768477 1.7009947 -0.1830261 0.27147695 2.9195416 0.801868 -0.21166666 1.8762391 2.0312402 -0.83916956 -1.8924448 -0.8591967 1.3861572 1.4221402 -0.22199516 0.88558954 -2.7754016 0.76693803 -0.039527435 0.74935645 1.3386279 -0.39080724 -0.26873833 0.8972396 -0.60566366 -0.8532991 0.014365448 -0.67513114 -0.52097553 1.1179368 -1.1936499 -0.6559193 0.938022 -2.2571654 -3.0508792 -0.7227019 1.2745616 1.0202187 0.9840875 -2.8626523 1.2382461 1.1355385 0.0136938635 2.0628734 0.108944796 -0.86612064 -0.8116914 0.9342249 -0.8987377 0.011308536 0.80704564 2.0953562 -1.9135808 -0.5009951 -0.22260208 0.8624965 0.5630634 -0.46424702 -1.6521688 0.34720603 -1.36089 -0.21586478 1.9220291 0.46534094 1.4874742 -1.329455 2.045918 2.821619 1.9280642 -1.1321975 0.9344899 -0.7038843 0.7139956 -0.3580236 0.30644202 1.1503032 0.18564531 -2.0370424 1.7469863 -0.19078876 -0.645339 0.505186 -0.60695523 1.1013697 -0.57632995 -0.22718555 2.282853 2.5692198 1.8646836 1.0998862 -1.6795722 0.16015984 0.37569702 1.9649556 2.360805 -1.6617944 -1.0738456 -1.0985037 1.4406085 -1.5327767 -0.13647187 1.3672692 -0.15450615 -0.4382513 -3.0015786 -2.6966953 0.46445477 -0.117575265 -1.1011763 -0.3542566 -0.5057304 -0.42879865 0.32639202 -0.18921247 1.5726771 -0.7151896 -1.1668553 -0.42700508 -1.1397042 1.5330937 -3.2055368 0.06028447 -0.587752 0.28860852 -1.5711918 -0.46920586 0.70577353 -0.1825155 2.6019137 0.53800887 2.0388956 1.1267477 1.2491167 2.2639756 -0.695714 0.021000264 -0.018054683 -0.31883276 3.05128 -1.3045707 -2.8690743 0.042503554 -1.0368543 1.4625484 2.132626 -1.0482056 1.1042211 -1.8272645 0.92395014 1.3298126 2.0358117 -1.56781 0.16664277 -1.6970147 -0.44302478 0.013548814 -0.4594601 3.4404755 1.1110681 -0.60941976 0.6265386 0.80946475 -0.7507894 1.1109685 0.9413552 -1.5049429 2.0481293 1.9211582 -0.68767345 1.5065689 -0.5944365 -0.9077338 -2.9764507 0.8370789 0.81362617 -1.0928285 -1.3421642 -0.57118154 -1.2328687 -1.9633489 0.84809166 -1.4519063 -1.0918429 -1.868486 0.70797133 2.8786998 0.7862087 0.07976656 0.20497806 0.17032085 0.20717178\n",
            "мочь_VERB 2.639508 -3.596937 -0.13203041 -0.4291383 0.9506081 -0.22900711 -2.5004447 3.9116285 -0.89953893 2.7862992 2.060538 1.899042 0.8766623 -1.5066367 -0.94136685 -1.3621889 1.8738748 -0.3470257 4.0077496 -3.2853916 -0.9675661 3.9047437 -2.8360598 0.7927359 0.42651346 2.1660433 -0.794716 -1.1207846 -0.36603713 -0.8844712 0.98033404 1.546173 -0.79197633 -0.6812727 -2.4167998 1.2058518 1.0936364 -1.1110761 0.90732974 0.09389676 2.3346324 -0.7444583 1.563577 0.4702828 3.1315284 -3.2004907 -0.8812839 -1.4575105 3.4884574 -2.0537179 1.6051058 2.6329818 2.0520415 2.428325 1.0092834 -1.4466705 1.4382554 1.2298491 -3.9642189 1.5861732 -1.3646423 -1.1799427 0.6373636 0.21186395 1.7562934 -1.0474283 1.8860534 1.8322881 5.141239 -2.703695 1.5064459 0.22433917 -0.3563173 2.085657 -0.8048623 -0.53803736 3.159983 0.056129918 1.2066299 2.0534358 -0.0062961015 0.24017237 0.79163617 -2.0521183 1.2292339 -3.4259686 0.13811818 -0.3438299 -1.228635 -0.7108339 1.1776066 0.9941301 1.9645803 1.7459899 2.4982944 1.2948874 0.79444396 1.4383093 0.6445869 1.6354978 -1.481406 1.0675937 -0.38864142 2.915026 -0.3861666 -3.0555453 -5.6708264 -2.2083077 0.8066528 0.64094585 1.7113914 0.36698744 0.7156765 7.3534895e-05 -0.4270335 0.6495731 2.8331528 2.183903 -2.2413461 -3.3966296 -0.98763406 0.04406659 0.8238919 -0.051307183 -1.8865644 1.6241522 3.5207922 2.0329142 -2.666075 -1.268405 2.5806277 -1.9420224 -1.435648 0.5512303 -0.1628079 1.9835534 2.3750982 1.514873 -2.1134374 -0.68048215 -1.9520694 2.1419294 -0.98314494 1.1820025 0.1096151 0.49162242 -0.08759459 0.7531626 -1.9602966 1.1450801 -3.3617625 -0.19421527 -1.1017462 1.479329 0.61724496 2.4753125 0.6708446 -1.1753184 0.31843096 1.8206724 2.160682 1.4389728 -2.6788893 -0.5056707 -0.52379304 -1.3087194 -1.3553264 -2.500017 -0.3930002 2.2039611 0.91300654 -0.13622466 -2.3212044 0.40705884 1.2981701 2.1043649 -0.51445895 1.0471466 -2.2288134 -0.2932368 0.16700009 -1.8869786 -1.5194253 0.26262572 -1.1251708 -0.68512326 -1.2809856 -1.6625402 0.16980563 -3.0571496 -0.23520276 1.5529283 1.3908714 0.04909653 -0.7948624 -0.6532779 0.6794584 0.796455 1.6383345 1.2763071 0.44163334 -0.34045473 0.6489346 -0.20815451 2.8807352 2.797243 1.4185323 -1.1856049 -3.6568034 -0.06924649 0.50888884 -0.31534445 3.374188 -0.256966 -2.6340764 -1.0117366 -0.26365066 -1.9435635 -0.54298174 0.77717215 -3.1496117 3.8402762 1.2755228 2.4154859 -0.1375811 -1.6538013 0.6861771 -2.1737292 3.6367893 -1.3261046 -5.37977 -2.2688777 0.025307197 0.27683976 -2.9834166 0.010674399 0.9321383 1.2996848 -2.9357343 1.4555732 -2.0119195 -1.1348934 3.157195 1.2304853 0.37041795 1.7162594 -0.16331708 -0.035615053 1.032767 0.8092336 -1.7922945 -2.4629328 2.544327 -0.39537534 1.1208388 3.1717596 -2.5703013 -1.115118 3.6106753 2.0001075 -0.13788411 -1.1099926 -0.23116621 -0.6853145 -2.7061875 -0.007235621 -0.46521676 -0.9488023 1.9093031 2.7557197 -1.6472099 0.11942029 1.0220942 5.9524713 2.5042584 0.6457967 1.129799 -0.13123418 2.822071 -0.1494902 3.0608807 -1.5718557 1.3371296 -0.6165876 1.041783 -0.8009989 -0.27122825 -3.4877832 -1.1139629 1.3940998 -0.8589475 -0.34191337 -0.4366729 0.55940706 -0.9045043 0.28853402 -2.09941 1.6058776 0.8480653 -0.4020421\n",
            "год_NOUN 0.2149708 -5.0551214 -0.71429336 4.0496287 0.16073404 -1.6587932 -7.0267076 0.8388962 -5.336634 -5.3524623 4.4152236 -0.7664771 2.089831 -5.9603815 -2.6947095 1.8890797 0.14521892 2.037775 -1.1296309 2.1136556 2.7081268 -0.13901863 -2.8226464 2.8801527 -2.7243545 -2.136242 -1.4469573 0.023301845 -1.5734545 -3.428577 -2.3961685 4.371691 1.7923138 1.3944594 0.8808351 0.3909347 -3.006997 1.1382822 5.0840483 -4.1665025 2.1333714 1.3171775 -1.9801265 -4.810939 -0.6089963 -2.330372 -2.6354523 -0.51007265 7.401667 0.54545724 0.6662986 -5.67398 -0.8545488 2.2884324 -1.9746729 8.182403 5.8032885 1.9126571 -3.6082408 1.4151968 -2.8520336 -4.507488 -6.079321 -9.535084 6.025494 0.09476804 0.7633023 -0.7123987 -2.6262994 3.6904001 -5.904947 -3.523119 2.8391254 5.42713 4.3207183 -3.1857119 1.6471885 3.306901 5.8806367 -6.6889415 1.7738228 -1.9065101 0.30406672 -0.9724488 -3.3730922 6.9949875 -1.2591078 0.52755094 1.4451802 2.6161306 2.4978738 3.3150594 -3.2835941 -2.6707182 5.2210937 0.8408427 -6.309414 -0.12587568 -2.871612 0.56136596 1.9783938 -3.2655554 -3.773249 1.4549339 -3.3728957 -0.7781109 0.6355209 -0.64041823 -0.9620321 -1.2910647 0.0582898 -1.0698994 2.5988388 0.98797613 -0.7933901 -7.4369674 -4.7019567 -1.0562528 1.9613203 -3.8695853 -1.4681699 2.5618227 5.1839294 0.07992958 0.80957615 -2.443253 -1.5898398 -2.6126916 -3.1803522 -4.3580074 -0.3706186 -5.0708528 0.5604758 -0.9088995 0.0784655 -3.3353622 -3.8530166 -1.7691277 5.0827985 0.9607892 3.9722335 -2.559992 -0.3553072 5.7107415 -4.8738933 2.766513 4.630412 -1.8454635 1.4269246 3.7999585 -1.6264099 -0.7970177 -3.9595869 -3.5398457 2.1740348 0.5503861 -0.8791627 -3.3500924 1.2403439 -2.1155355 0.6241999 -4.537975 -1.6105161 -1.3550465 0.36774632 4.0605173 -1.423813 -4.355274 -0.8610686 -1.6689663 0.92447275 1.7004225 -0.24524367 -0.8461988 -0.12527838 0.10893051 -3.78225 5.111665 -2.651423 -0.2943366 0.92216504 -0.47240326 -0.22548667 -0.18997799 4.319461 5.7415833 -0.37390292 -0.04884749 0.6572114 3.1775298 -1.6236317 -2.1254244 -0.29463547 3.1500437 -4.509867 0.9847792 -2.6988664 -0.014219298 -0.6602065 -0.16977596 0.32898164 -0.15330857 0.7608961 -1.3394507 -1.7209644 -3.9738734 1.8228563 2.032488 3.9893994 1.8571979 1.7802305 -1.9505222 -0.34079617 -2.4663827 -2.3589525 -0.6167934 -2.9457955 2.0224042 3.6872509 4.967886 0.9924331 -1.0753807 -1.3974696 -2.3071547 0.5371001 -2.769941 -2.981864 -6.1035976 -5.231702 1.2073454 -2.8011806 -1.1531751 0.14369862 2.119547 3.7928052 -1.9676745 1.280235 3.2536557 -0.063587025 -2.7095191 3.576509 -2.9331672 0.9292532 -2.8256378 4.9694796 2.3461397 -9.9175205 2.959104 -6.0053596 4.6750617 -1.4017618 -0.39319593 -7.2080665 -1.1499962 -4.8547616 -5.286505 -0.35697672 -2.5214152 -1.1139205 0.2873125 4.483282 -2.6181433 -2.834915 -0.20001532 1.5761149 -2.170306 -0.99915224 1.3947519 -0.37490684 -1.031061 -1.8204389 -2.662415 2.7756245 0.06735576 3.7266915 -1.3593191 1.5309213 -1.7605585 -2.8723752 -2.4243057 2.5254319 -3.1313589 -2.8338203 2.0819626 -0.065145634 -6.582239 -4.4811463 0.41413194 -1.6580522 2.2766542 -2.3397083 -3.3785992 -0.17673668 -1.3696308 -0.3463947 -0.19668682 5.0177755 -3.6951125 -2.999103 -2.6571248\n",
            "человек_NOUN 0.028817864 -0.7942778 2.4604542 2.2049303 1.4084865 2.3384094 -5.0771294 1.3228273 -0.7700866 -1.2985276 -1.8167719 -4.159578 0.8609322 -0.22070158 0.7647922 0.3714357 2.8227444 2.3534238 2.233989 -1.6137532 -0.7618129 -1.2250047 -1.5396882 1.5272634 0.3737581 1.5218272 -1.6355906 1.0531534 1.7305577 1.4870617 -0.12854928 0.28150356 -0.8016565 -0.7786614 -2.3134973 -0.6050228 0.9108396 0.20861344 2.9851766 -2.741395 -0.59730536 0.786737 2.900202 2.057829 -3.1639 -1.9499633 2.2956364 -2.8846607 0.5057946 1.1529944 2.1955884 -1.7807401 3.2530243 1.1810039 2.698392 -0.87094474 3.4558609 -0.44822928 0.06525859 -1.9439917 -3.0146966 -2.004296 -0.9303296 0.24674095 -0.05954836 1.2282447 -0.19748698 0.32819965 2.0197308 -1.6008699 0.44430524 2.6799345 -1.8073838 0.49608546 1.5340722 0.64053714 2.384111 -0.5140343 -1.227484 -1.8893387 -1.3680257 -0.4650399 -1.2550243 -5.7972717 0.5269665 0.32706985 -2.4701648 -2.6670387 0.40443066 2.8888688 -1.0958974 0.13095209 0.7096832 0.5556277 1.9988924 2.3090127 1.250754 1.3282231 1.2203866 1.6644367 -0.48634532 -0.37102327 -1.0197256 -0.3423601 1.6962696 -3.1035562 -1.1435026 -2.239184 1.7188919 -1.3996733 0.60474694 0.48288834 4.251633 -0.38397747 0.08629493 -2.3013384 0.56117904 1.6602075 -2.1304815 -1.1145737 2.3684998 2.7915094 -1.2617558 0.3056864 0.21572092 -1.6486188 3.6305556 -0.21364826 -3.0982213 4.3151846 1.2491016 0.6958265 -1.5161768 3.635716 1.0187508 2.7327974 0.67526025 -0.35098833 1.4690078 -2.2238722 -1.3491743 -1.9210736 -2.5732145 -0.29271448 -1.4414177 2.7781756 0.34495538 3.2421005 0.9576525 0.9019867 -0.66448444 -0.52786577 -2.0325928 0.4713844 -0.09121452 -2.3411283 -2.199264 0.7865751 -0.55974233 0.13986659 2.6649265 -1.9595503 -0.7205587 -2.1351438 1.5715938 -0.96639144 0.9451027 -3.48621 -1.4287461 1.4909772 -2.591471 2.1715682 -1.766912 -0.09761408 0.014032701 -0.37324426 -1.2097588 1.0331624 -4.356788 -2.51305 1.4275843 -1.9737134 -5.530903 -0.70615166 -2.0034475 -0.33337298 -2.4971008 0.26503477 1.9675813 0.42321998 -0.63752145 0.10386098 2.5415075 1.133641 0.3834258 -1.2670293 -0.059388645 0.79511994 0.8417143 -0.6495729 1.9879067 1.3216252 0.78651273 1.1258755 -1.3324114 1.2557478 2.1512127 1.8947948 -3.2634118 -0.6295824 1.7583016 -0.081614956 -0.25516436 -3.6623144 -4.272793 -2.0824955 0.03522891 -1.4745784 1.740443 1.1505721 -2.6772485 3.3411171 -0.19645514 -1.5379975 2.3848488 -0.5293263 -0.028838867 -1.85102 2.9233766 -2.3335586 -3.159292 -0.7481597 0.15686674 2.3560433 -1.0694128 -0.2671781 -2.3968706 1.5335726 -0.7792949 0.85446376 -1.6937584 -0.35487497 2.1014411 -0.3700124 1.8010496 -1.9562128 -0.24241634 -1.9053471 1.5294913 1.2465435 -1.4542344 -2.0038497 0.14128484 3.2336264 -4.057391 0.46954685 -2.3598564 -2.0575457 3.9463515 0.25488973 -2.0495598 2.5023708 4.081684 -2.8577638 -2.4694579 0.37929028 -2.0158005 1.2604927 1.5524983 0.7846877 0.37577006 0.25200143 0.26695415 3.1214616 2.6493778 2.1328492 0.20411168 -1.5172743 1.6640692 2.1894338 2.7353237 -2.914646 -0.21190737 -1.1893722 -0.18100771 -0.5270128 0.4544297 -0.015227075 -0.70213455 0.57523084 0.49306267 0.8561878 -0.8471191 0.36713082 0.557917 2.5773728 0.42921996 -0.21366908 3.4290824 -1.527524\n",
            "xxxxxx_NUM 0.27143195 0.6465938 2.4128983 0.21871626 -1.4453003 0.12126366 2.0776455 -3.4143214 2.2783635 1.8736141 -0.35382986 1.520102 -3.5447657 1.7909886 -3.2168417 2.4063587 1.419994 -5.4388967 -0.4214241 2.6093419 1.9383178 0.43807584 -1.3303587 -4.1503115 2.171172 -1.641364 -2.9276574 -1.5449548 1.4069544 -2.0956862 1.8005687 0.6998175 -1.0008396 1.7676848 -0.81062514 1.5358089 2.257245 -3.413843 -0.116165645 1.9943721 1.556123 -0.15807891 -1.6756085 -2.7203903 -0.3584676 0.54843724 -3.2213447 -0.24915577 0.18450727 3.2064981 1.4628105 1.5158184 0.25073197 -2.592314 -2.1498752 0.1190877 5.1952076 -1.0898652 1.538567 3.1217003 -0.028022539 4.9040127 -4.9481897 -2.2834473 -1.1650553 0.37226492 0.37337673 -3.2921522 3.6796086 4.1406918 -3.2009423 0.25573552 0.763 1.1103159 -3.1735518 -3.5217774 -0.82800746 0.98124886 1.2114265 -2.0008566 1.4165175 1.820073 -1.9185395 0.56234086 0.702575 -1.2888712 0.5051025 3.0328968 -0.32913157 0.66912997 3.9676178 -2.7928665 -3.670327 0.83185714 2.009225 0.9636356 -1.3755946 2.5532262 -1.0198169 -1.2811953 -3.185268 -1.6781311 0.93969595 0.0901904 0.6038106 -0.42862627 1.7474701 1.8084834 0.7053803 1.2154437 1.0840516 -0.44976747 0.69448274 1.8045913 -2.9908392 0.92759174 0.8582288 -1.7453485 -0.5672244 0.8959356 -1.3889215 0.2542753 2.4584181 -1.3909453 -1.3703905 1.2672385 -0.42439005 -1.597158 1.3143209 -2.156297 0.07937929 -0.23895308 -3.0303278 -0.48853716 -2.499082 -0.5895087 2.3223329 1.5059019 2.018392 -0.68648297 3.2298307 0.63394254 1.9053162 0.44295684 -2.332397 -2.044046 -0.068548925 0.21767595 1.9824532 -1.8958935 -4.884603 -2.5003946 -1.0730281 -2.7489793 0.97647935 -4.111782 -0.6119925 1.7623441 0.32438335 -3.173049 -1.9118152 0.599348 2.2745428 -0.4127683 2.1555684 1.3395339 -0.49137667 -1.007098 2.8808904 1.5862205 -0.4646096 -0.49699003 -1.862324 0.14289808 -3.7252588 1.7092615 -0.5357922 3.7793748 1.1604253 4.6696825 -2.3603554 -2.9564083 -1.5161256 2.093811 -3.6254978 -0.34022704 1.4408048 -1.9165177 -4.4381275 0.62538123 -2.0271902 -0.32218987 3.033925 0.67107844 -3.0881586 1.6797103 -1.9863229 -1.7433876 -2.9341197 2.9083362 -0.53979576 0.6077491 2.1393764 0.6632686 1.4756292 -0.7425796 2.7694008 -3.5292237 3.844878 1.2682564 -2.5114982 3.0472639 4.5241075 2.3471782 1.3245814 0.11839587 -2.4024274 -0.654022 -0.9350674 0.28546652 0.854282 -2.4456792 -4.9443665 -2.0152855 0.31552637 -0.16523138 -1.6355932 3.9587784 -0.6360143 1.8162137 1.450468 -0.5753882 0.6263368 -4.76945 2.7574115 0.58512956 -1.7790079 1.1583376 1.1745855 -4.723963 0.12012086 -0.072165385 2.1335135 -0.6931265 1.7352406 0.54840094 -3.8975515 5.5068192 -2.2273288 -0.29202977 2.175018 -1.2232416 -1.4435952 -2.1350777 -3.4718838 1.7565508 0.001073339 1.4728165 -2.554363 1.7416152 1.8069079 -2.119635 -1.3623675 -1.0941335 3.1709464 -2.2551599 -1.9342307 0.58973914 -2.2476783 -2.843896 -4.136354 2.4142258 -1.8334345 1.749138 -2.5135798 -0.613669 -1.5001651 0.95999753 0.35658145 -0.7043926 1.9500648 -0.34140378 0.40911695 2.1512182 -1.4440145 -2.4506047 0.15953662 -3.5957682 -0.29788652 -0.59084576 -4.229071 -1.5626482 1.6519511 1.4146225 0.38142848 -2.4968853 -0.5079835 -0.3915089 2.7796414 1.4681872\n",
            "сказать_VERB -1.1395985 1.6549945 -2.034396 -0.650576 0.06788267 -1.0573481 0.040340133 1.9016737 0.19913027 -0.50580305 -1.8986623 -0.92276174 0.56766325 0.6755983 -0.65405035 0.5935447 -2.977856 1.3 -1.2830342 -1.2556121 1.5064274 0.64105976 -1.1017644 2.2763417 -0.8572291 -0.09561991 -0.538819 -2.61843 0.90752566 -1.4277502 -2.0970232 0.8312851 0.13081703 -2.232887 2.036437 0.6876473 1.532956 2.5535622 -0.8260011 -2.0331004 0.021649938 1.9853091 0.38040975 0.093667075 0.5658468 0.95416915 1.7073401 -0.72097 -0.86173147 -0.1947431 0.22756596 1.7100873 -2.4388816 -0.64750916 0.18254809 0.9053364 -0.60113853 -0.70649666 0.2731905 -0.2562245 0.8869565 -0.83390653 0.4256693 0.3269955 -1.9714568 1.1228107 0.666325 1.0450082 -0.023317223 -3.934045 -0.07547499 0.19648889 -4.2869163 -1.489979 0.7528284 0.87588483 -1.6239439 -1.6969563 0.71864426 2.109931 0.6419698 -2.541211 -1.9702046 -1.8731434 -3.9914062 -0.76820016 -1.8468766 -0.0050080973 0.04088551 -1.3049843 -2.2618842 0.26801988 -1.2780926 0.28522643 1.0593402 -1.7470524 0.15344106 0.80682164 0.27866912 1.2979043 2.6938984 0.68947965 -0.6325382 0.4717521 0.88676023 -1.4252796 -1.5644361 -0.0046567013 -0.7009426 0.82907325 0.23689285 0.91474664 -0.7287845 3.254498 2.803074 2.0311313 1.7773975 -2.2911043 -0.82717794 -0.22436014 0.8597726 0.4398132 1.2265956 2.3085463 0.60259414 -0.9660929 0.36745104 0.8553832 -0.54856014 2.0636256 -0.2992955 -1.6915152 -0.85943896 -0.22516982 1.153469 0.14363006 -0.11019604 -0.2449945 0.29482773 -2.6574028 -0.28472728 -0.57855546 -0.7310761 -1.5175521 -1.6119679 -0.45560485 0.8424819 -1.7234302 -2.788106 -1.6527966 1.6286972 2.111375 0.90763164 -0.55448294 -0.2121444 0.6214202 -2.0604017 0.1359937 0.700572 0.6918789 0.1770436 0.05612454 -1.9582487 -0.24324182 -2.2071533 -1.7251756 1.208888 1.3613274 -0.08342639 -0.86723566 -1.438072 4.851996 0.9900229 2.7365334 -1.5801934 -0.8185532 3.6284807 -0.6708863 0.93970096 -3.1177354 -2.054445 -0.11605811 2.2016385 0.46838778 0.6022178 -2.5768254 -1.0215675 1.9913276 -2.2403014 -1.4314529 0.37172404 0.3336549 -1.9759947 0.3377559 -0.9957848 0.30017895 0.9903763 0.8160115 0.32899234 -0.3371052 2.5481408 -1.589149 1.3236669 1.2048634 0.16698985 -1.2180302 1.5299561 1.5812131 -0.7753362 0.20492297 1.7280782 -2.6446998 -1.8982339 -0.12893258 -1.5946584 0.94073194 0.24828532 1.1490183 -0.29149464 -3.4646506 -0.83036953 0.672288 0.5734915 2.640195 -1.3807231 -0.8080554 0.7741672 1.4330738 -0.0069465856 -0.87722224 1.9435574 3.1237671 -0.7871118 -2.4623587 -0.22935717 0.77438575 0.7050153 0.82511437 0.030667176 1.5975646 2.6006846 -0.53407675 2.172052 0.20423487 0.90800434 -2.7200966 1.9739938 1.8728344 1.2824454 -1.0113132 -0.5329389 0.2186551 1.1890992 1.1217784 3.123348 0.58813214 1.0213122 -0.7567518 0.18775354 1.3560197 -1.0200936 1.3260456 -0.39486882 -0.57550555 -0.3099445 1.533489 1.3070484 0.20626701 -0.2538868 0.14711447 1.0706072 0.17243865 0.8462744 -1.3741237 -0.15041612 2.6323054 1.9824221 -2.4122221 1.2809324 -1.5857707 -1.2364093 -0.9091245 2.3519058 -0.40299085 -0.68837 0.818919 1.1485765 0.47008693 0.33747765 1.9334471 0.46724668 -0.8556394 -1.9691333 2.4826295 0.7830209 0.4620779 -2.0628812 1.5763237 -0.39947173 -0.33590516\n",
            "еще_ADV 0.70763516 -1.8415669 0.34900853 -0.98394585 1.9199976 2.1562643 -0.41740233 1.7081678 1.3392074 -1.7367188 0.42998824 0.9477452 -0.96803576 2.1457002 -3.000739 -0.6205007 0.93680125 0.2711759 1.0299791 -2.375021 -0.08795373 -1.4342815 0.7642413 0.16498266 -0.47330353 -0.2234669 -0.2341961 0.29649186 -1.8920002 1.8520713 1.0207065 -0.4655479 0.39903072 -0.9166768 1.6521394 -0.5307023 0.76557076 0.8767388 1.5089158 0.04378551 0.6446878 0.84240514 0.025610799 1.3056517 -0.94254696 -1.9451442 -0.56567436 -0.22104786 0.95138645 -1.1932687 -0.21272916 1.6506342 0.6941083 -1.6026509 -0.6793416 3.1760337 -0.9614337 0.6348133 0.30227566 0.15365419 -0.51710695 -2.1366818 -0.099004306 -0.13813902 0.4062665 1.8533138 0.4402628 -0.04939995 2.251819 1.5603299 0.6696451 -0.3270478 -1.166734 -0.077966206 1.0520184 0.918592 -0.2646669 -1.2694256 1.010854 -0.6693584 0.017669845 0.2199776 -0.99172705 -2.7935266 -2.1894608 1.143506 -0.34168026 -1.0295665 0.6218905 0.7655256 0.4238283 0.7232458 0.1456067 -2.0044584 1.0556142 -0.07239726 -1.0174648 1.5070381 -0.3568422 -0.77419215 2.1988723 -0.23441784 -2.0075333 0.28411862 0.13973004 -0.13581261 -2.6387649 1.1606694 -1.4424826 0.20127389 0.4159839 2.2001016 -0.9733 -0.8344575 0.36957124 0.8849544 0.20335662 0.67176825 0.30717897 -1.1292179 -1.3315986 -0.40946272 -0.74829566 0.36204925 -1.0767686 -1.6244937 1.6437639 0.015781572 1.4582466 -1.0063641 0.7815685 -0.44528666 -1.2074425 -0.17785832 0.12553021 -0.100026734 1.7707132 1.374527 -1.8164152 0.092262655 1.0217427 1.5669999 -0.39053467 2.2072864 -0.6514553 0.24891785 0.27231923 -2.334334 -0.5750929 2.3862188 -1.0734998 -1.908786 -0.34922475 -2.0266027 -1.4381251 1.8096393 0.22330992 -2.2750387 1.6196247 -0.557967 1.4498107 -0.5788633 0.18277378 -0.5600481 1.2519517 0.67972326 0.3654441 -1.7156957 0.3888134 0.5078623 0.4490437 -0.06913153 -0.18609431 1.0256969 0.28789836 1.8410006 -0.49492446 -1.2999618 -0.5853068 1.39871 -1.374618 0.816984 0.3332778 1.4853595 1.3792315 1.6323428 1.4224721 0.16068435 1.4908484 0.36288714 -1.6731032 -1.1296198 1.4770024 0.3278727 -0.92001003 0.19925544 0.89017886 -0.09632694 -1.0006093 1.0151327 -1.0052767 -0.7343023 0.80249774 1.745382 -0.16740865 -0.3424237 0.84181434 0.20955446 -0.18110867 -0.13553494 2.6069212 1.6424333 -0.79726535 -0.0379658 -1.8510392 -0.23259757 -0.8843182 2.046137 0.668698 1.5881795 -0.49044725 -0.3179374 1.4336991 0.50515544 -0.43337578 -1.6494706 1.2364566 -2.55087 1.1978176 -1.2760165 -0.47192663 -2.218753 1.753207 -1.1561612 -0.7540497 1.8715006 -0.2559852 2.57082 1.1928301 1.0698072 -1.1460866 -1.1084927 0.81168365 -3.0085576 1.4883623 0.87260276 0.45828512 1.6977696 0.9539213 -2.2667336 0.68391246 1.8213469 1.7644742 1.3145914 0.054462504 -0.954372 0.10994843 -2.3765213 1.4161583 0.25657427 -0.6339043 0.5150476 -2.1392066 -0.511024 -0.42518145 0.7400359 -0.2097578 -1.7387197 1.3242714 1.3468584 -1.5143632 -0.7488352 0.91459984 3.1945744 -0.52605 3.0732508 2.4197342 0.044610538 -0.25617114 0.1549037 -2.13169 -1.5927142 -0.5247635 -0.6994518 0.50710756 -0.2177767 -0.37913096 0.4439722 0.101079226 2.6527064 0.6345119 -1.803425 -1.6932733 -0.9332368 -1.1540849 0.5679297 0.308116 -0.7793939 -0.9067328 2.118384\n",
            "один_NUM 1.1506184 1.0866077 1.283962 -1.6125816 0.81920147 -0.7092448 -2.78689 -0.56533754 -1.5368172 -1.4956071 -0.8136848 -1.4521925 -0.5609558 -1.0308968 -0.37051198 1.701146 1.1094412 0.5895305 -1.5803144 0.15977666 0.8770144 -0.08760503 0.1379432 -1.6781865 -1.139526 2.5784903 -1.8267885 0.4041609 -0.65844303 -1.3956481 1.5737543 -1.3326272 1.0426236 0.55313224 0.18774317 1.0471728 1.3397636 -1.7616822 1.9063267 1.8331527 -2.0172632 -0.3377382 0.97710395 -0.4399791 -0.008982525 0.0904028 -0.41518876 -1.0903326 -0.87182575 -1.4025593 -0.17162493 1.6323249 -0.7451625 -0.5478971 1.1611046 -0.74422795 1.2298882 -2.0149913 0.68997675 0.75965685 0.049858768 -0.9688492 -2.0696764 0.018034615 -0.067058615 1.9364213 -1.4185797 -1.0818199 3.8189366 1.305155 -0.37178278 1.6932452 0.6423634 -0.597568 -2.988272 -0.92226493 3.2243454 0.37261683 -1.4813395 0.03319223 -0.03744785 -1.6621017 0.25934795 -3.0941932 0.9878625 -0.09510462 -1.8767089 0.3073657 -1.1651268 0.92502713 -0.34711304 -0.9590461 -0.79560494 2.596105 -2.1572733 2.5367448 1.7980038 0.78660816 0.9216703 1.6572996 -1.2649158 -0.0060055302 -1.5899508 0.7774561 -0.05110334 -0.5239364 -1.9776701 0.14487171 -0.49375817 1.2545967 3.521807 -1.352252 0.2332921 -1.7431648 -1.4250886 -1.6639812 0.5910692 2.3203354 1.3659811 -0.5996983 -0.22072826 -0.026647603 1.9894358 1.1048552 1.3273954 -0.33351478 -1.2996999 1.2633433 -0.85250574 1.0427797 0.019716244 0.99440134 -0.35597456 -0.5116267 -1.338435 -1.4307947 1.1553599 -1.0569451 -0.6396728 0.079812825 -1.0468221 -0.98633075 0.018285373 -1.2568917 -1.0199928 0.12067131 0.38362783 0.624939 -2.7959852 2.263294 -2.1384337 -0.8013152 -0.47621664 0.29835388 2.0253003 -0.36890152 -2.0630858 -0.48676413 0.25413275 -1.5750905 0.36924502 -2.0100975 -1.9407848 -2.8189778 0.5427764 -0.0048856824 0.23539737 0.9926292 0.020340316 1.0236664 -0.78897744 1.3610486 -1.5119058 0.95631796 1.414018 -1.1801248 -1.656883 0.7061347 0.040424854 0.76229787 -1.0169153 0.08371322 -1.7679555 -0.71769154 -0.15974455 0.3198234 -0.6880324 -0.12578572 0.25198042 0.0064020837 -0.8167581 0.4922077 1.0659498 2.7016897 -2.500655 -0.6343119 -0.4671286 0.5340797 -0.9774644 1.4121077 -0.31740722 0.083532564 0.079408556 -2.3877811 2.1008577 -0.07015254 1.2314173 -0.05533174 1.0382506 1.4878423 1.4809059 -2.3094826 0.654477 -0.13876177 -6.2176743 0.13696784 -0.6941002 -1.455217 -1.606485 1.5389876 -0.47320223 0.09043346 1.7815168 -1.6631318 0.8373947 0.4037865 0.28095198 0.7826254 0.52220047 -1.2186048 -1.5077246 -0.0117079485 1.9704579 -2.251619 0.07943852 1.0865556 -0.12706925 1.6216793 1.9712207 0.3340594 -0.31823292 -0.31472608 0.86693984 -0.1385823 -0.26657513 1.8147335 -2.2456384 3.3172843 -0.41382512 -1.5383863 -0.90019536 -0.82890123 2.052459 -0.9852723 -0.79001254 -1.5252222 0.2517599 -1.1185058 1.4204314 0.0948611 -2.3487864 1.3778201 -2.707663 -1.6971285 0.90645874 -0.38388172 0.60735554 -0.24650747 -0.44518948 0.045057666 0.54964656 -0.5383794 -0.94522107 3.2554383 -0.7710577 2.5924988 -1.131051 0.55605906 1.7209549 0.8578426 -0.56758523 1.0811418 0.7772216 -0.327193 0.5764379 0.17240483 -2.68977 -2.5472116 -2.1469588 -1.1631178 -0.602172 -0.77166414 0.56545216 -0.7804772 -0.92325026 -0.3249263 -1.7829381 1.570311 1.0797627 0.7211459\n"
          ],
          "name": "stdout"
        }
      ]
    },
    {
      "cell_type": "code",
      "metadata": {
        "id": "KsnV0Fzgkbed",
        "colab_type": "code",
        "colab": {}
      },
      "source": [
        "with open(\"model.txt\", \"r\") as file:\n",
        "    lines = file.readlines()\n",
        "    w2v = {(line.split()[0]).split('_')[0]: np.array([float(i) for i in line.split()[1:]])\n",
        "           for line in lines[1:]}"
      ],
      "execution_count": 0,
      "outputs": []
    },
    {
      "cell_type": "code",
      "metadata": {
        "id": "TOK_-hBaeF0Z",
        "colab_type": "code",
        "colab": {}
      },
      "source": [
        "from sklearn.feature_extraction.text import TfidfVectorizer\n",
        "from collections import defaultdict\n",
        "\n",
        "#векторайзер, усредняющий эмбеддинги\n",
        "class MeanEmbeddingVectorizer(object):\n",
        "    def __init__(self, word2vec, dim):\n",
        "        self.word2vec = word2vec\n",
        "        # if a text is empty we should return a vector of zeros\n",
        "        # with the same dimensionality as all the other vectors\n",
        "        self.dim = dim\n",
        "\n",
        "    def fit(self, X, y):\n",
        "        return self\n",
        "\n",
        "    def transform(self, X):\n",
        "        return np.array([\n",
        "            np.mean([self.word2vec[w] for w in tokenize(words) if w in self.word2vec]\n",
        "                    or [np.zeros(self.dim)], axis=0)\n",
        "            for words in X\n",
        "        ])\n",
        "\n",
        "#векторайзер, усредняющий эмбеддинги с учётом весов tf-idf\n",
        "class TfidfEmbeddingVectorizer(object):\n",
        "    def __init__(self, word2vec, dim):\n",
        "        self.word2vec = word2vec\n",
        "        self.word2weight = None\n",
        "        self.dim = dim\n",
        "\n",
        "    def fit(self, X, y):\n",
        "        tfidf = TfidfVectorizer(analyzer=lambda x: x)\n",
        "        tfidf.fit(X)\n",
        "        # if a word was never seen - it must be at least as infrequent\n",
        "        # as any of the known words - so the default idf is the max of \n",
        "        # known idf's\n",
        "        max_idf = max(tfidf.idf_)\n",
        "        self.word2weight = defaultdict(\n",
        "            lambda: max_idf,\n",
        "            [(w, tfidf.idf_[i]) for w, i in tfidf.vocabulary_.items()])\n",
        "\n",
        "        return self\n",
        "\n",
        "    def transform(self, X):\n",
        "        return np.array([\n",
        "                np.mean([self.word2vec[w] * self.word2weight[w]\n",
        "                         for w in tokenize(words) if w in self.word2vec] or\n",
        "                        [np.zeros(self.dim)], axis=0)\n",
        "                for words in X\n",
        "            ])"
      ],
      "execution_count": 0,
      "outputs": []
    },
    {
      "cell_type": "code",
      "metadata": {
        "id": "IR4RAzMthWv7",
        "colab_type": "code",
        "colab": {
          "base_uri": "https://localhost:8080/",
          "height": 362
        },
        "outputId": "e20703c9-9b6e-42c7-b65d-6b3a94d282ff"
      },
      "source": [
        "clf = Pipeline([('vect', MeanEmbeddingVectorizer(w2v, 300)), \n",
        "                ('clf', LinearSVC())])\n",
        "clf.fit(X_train_lemmas, y_train)\n",
        "y_pred = clf.predict(X_test_lemmas)\n",
        "print(f\"Accuracy: {accuracy_score(y_test, y_pred)}\") #не очень высоко\n",
        "cm = confusion_matrix(y_test, y_pred)\n",
        "plot_confusion_matrix(cm)"
      ],
      "execution_count": 51,
      "outputs": [
        {
          "output_type": "stream",
          "text": [
            "/usr/local/lib/python3.6/dist-packages/sklearn/svm/base.py:929: ConvergenceWarning: Liblinear failed to converge, increase the number of iterations.\n",
            "  \"the number of iterations.\", ConvergenceWarning)\n"
          ],
          "name": "stderr"
        },
        {
          "output_type": "stream",
          "text": [
            "Accuracy: 0.8993754337265788\n"
          ],
          "name": "stdout"
        },
        {
          "output_type": "display_data",
          "data": {
            "image/png": "[encoded data removed]",
            "text/plain": [
              "<Figure size 432x288 with 2 Axes>"
            ]
          },
          "metadata": {
            "tags": []
          }
        }
      ]
    },
    {
      "cell_type": "code",
      "metadata": {
        "id": "l-w-Ev5Ul8cS",
        "colab_type": "code",
        "colab": {
          "base_uri": "https://localhost:8080/",
          "height": 362
        },
        "outputId": "ebd0fde1-2af8-402e-dd9e-6e61f26e3f42"
      },
      "source": [
        "clf = Pipeline([('vect', TfidfEmbeddingVectorizer(w2v, 300)),  \n",
        "                ('clf', LinearSVC())])\n",
        "clf.fit(X_train_lemmas, y_train)\n",
        "y_pred = clf.predict(X_test_lemmas)\n",
        "print(f\"Accuracy: {accuracy_score(y_test, y_pred)}\") #всё ещё не очень\n",
        "cm = confusion_matrix(y_test, y_pred)\n",
        "plot_confusion_matrix(cm)"
      ],
      "execution_count": 52,
      "outputs": [
        {
          "output_type": "stream",
          "text": [
            "/usr/local/lib/python3.6/dist-packages/sklearn/svm/base.py:929: ConvergenceWarning: Liblinear failed to converge, increase the number of iterations.\n",
            "  \"the number of iterations.\", ConvergenceWarning)\n"
          ],
          "name": "stderr"
        },
        {
          "output_type": "stream",
          "text": [
            "Accuracy: 0.8959056210964608\n"
          ],
          "name": "stdout"
        },
        {
          "output_type": "display_data",
          "data": {
            "image/png": "[encoded data removed]",
            "text/plain": [
              "<Figure size 432x288 with 2 Axes>"
            ]
          },
          "metadata": {
            "tags": []
          }
        }
      ]
    },
    {
      "cell_type": "code",
      "metadata": {
        "id": "41iFbdq4wf_-",
        "colab_type": "code",
        "colab": {}
      },
      "source": [
        "#воспользуемся генсимовскими моделями эмбеддинга документа\n",
        "from gensim.models.doc2vec import Doc2Vec, TaggedDocument"
      ],
      "execution_count": 0,
      "outputs": []
    },
    {
      "cell_type": "code",
      "metadata": {
        "id": "K406Tu9_y8Hm",
        "colab_type": "code",
        "colab": {}
      },
      "source": [
        "documents = [TaggedDocument(doc, [i]) for i, doc in enumerate(X_train_lemmas)]\n",
        "model = Doc2Vec(documents, vector_size=300, window=2, min_count=1, workers=4)"
      ],
      "execution_count": 0,
      "outputs": []
    },
    {
      "cell_type": "code",
      "metadata": {
        "id": "JRuGGDyWzFyg",
        "colab_type": "code",
        "colab": {}
      },
      "source": [
        "class Doc2VecVectorizer(object):\n",
        "    def __init__(self, doc2vec):\n",
        "        self.doc2vec = doc2vec\n",
        "\n",
        "    def fit(self, X, y):\n",
        "        return self\n",
        "\n",
        "    def transform(self, X):\n",
        "        return np.array([self.doc2vec.infer_vector(tokenize(words)) for words in X])"
      ],
      "execution_count": 0,
      "outputs": []
    },
    {
      "cell_type": "code",
      "metadata": {
        "id": "Ue_2HxKqzqOU",
        "colab_type": "code",
        "colab": {
          "base_uri": "https://localhost:8080/",
          "height": 328
        },
        "outputId": "95e78cc6-0bb7-4d21-aac4-f0ae7158a2a8"
      },
      "source": [
        "clf = Pipeline([('vect', Doc2VecVectorizer(model)),  \n",
        "                ('clf', LinearSVC())])\n",
        "clf.fit(X_train_lemmas, y_train)\n",
        "y_pred = clf.predict(X_test_lemmas)\n",
        "print(f\"Accuracy: {accuracy_score(y_test, y_pred)}\") #худшая accuracy из всех, за mchsgov часто принимаются mil и mospolice\n",
        "cm = confusion_matrix(y_test, y_pred)\n",
        "plot_confusion_matrix(cm)"
      ],
      "execution_count": 56,
      "outputs": [
        {
          "output_type": "stream",
          "text": [
            "Accuracy: 0.42782789729354614\n"
          ],
          "name": "stdout"
        },
        {
          "output_type": "display_data",
          "data": {
            "image/png": "[encoded data removed]",
            "text/plain": [
              "<Figure size 432x288 with 2 Axes>"
            ]
          },
          "metadata": {
            "tags": []
          }
        }
      ]
    },
    {
      "cell_type": "markdown",
      "metadata": {
        "colab_type": "text",
        "id": "uyVQ5Gm7Qzcz"
      },
      "source": [
        "## Задание 7 [2 балла]. fastText\n",
        "\n",
        "Используйте ```fastText``` в режиме классификации. Оцените результаты классификации по стандартным мерам качества и проведите анализ ошибок. Для этого рекомендуем визуализировать матрицу ошибок (confusion matrix). "
      ]
    },
    {
      "cell_type": "code",
      "metadata": {
        "id": "7bRBBR6K0SmR",
        "colab_type": "code",
        "colab": {
          "base_uri": "https://localhost:8080/",
          "height": 97
        },
        "outputId": "c7fc0b50-d951-4aad-a893-bdae5010830d"
      },
      "source": [
        "!pip install fasttext"
      ],
      "execution_count": 57,
      "outputs": [
        {
          "output_type": "stream",
          "text": [
            "Requirement already satisfied: fasttext in /usr/local/lib/python3.6/dist-packages (0.8.3)\n",
            "Requirement already satisfied: future in /usr/local/lib/python3.6/dist-packages (from fasttext) (0.16.0)\n",
            "Requirement already satisfied: numpy>=1 in /usr/local/lib/python3.6/dist-packages (from fasttext) (1.16.4)\n"
          ],
          "name": "stdout"
        }
      ]
    },
    {
      "cell_type": "code",
      "metadata": {
        "id": "WmPx0nLh26us",
        "colab_type": "code",
        "colab": {}
      },
      "source": [
        "import fasttext"
      ],
      "execution_count": 0,
      "outputs": []
    },
    {
      "cell_type": "code",
      "metadata": {
        "id": "OOk1dUSz0vId",
        "colab_type": "code",
        "colab": {}
      },
      "source": [
        "#записываем тексты и классы в нужном формате в data_train.txt\n",
        "\n",
        "with open(\"data_train.txt\", \"w\") as file:\n",
        "    for i in range(len(X_train_lemmas)):\n",
        "        file.write(f\"__label__{y_train[i]} {X_train_lemmas[i]}\\n\")"
      ],
      "execution_count": 0,
      "outputs": []
    },
    {
      "cell_type": "code",
      "metadata": {
        "id": "aZHHi2U22XBV",
        "colab_type": "code",
        "colab": {
          "base_uri": "https://localhost:8080/",
          "height": 276
        },
        "outputId": "17169b09-de75-4323-dac3-f67327adbc79"
      },
      "source": [
        "!head data_train.txt"
      ],
      "execution_count": 60,
      "outputs": [
        {
          "output_type": "stream",
          "text": [
            "__label__russianpost если вы коллекционировать открытка почта россия - этот новость понравиться вы сегодня в москва стартовать большой фестиваль мультфильм для который мы выпустить новый открытка из серия «открытка из осень 2016»!<br><br>первый день фестиваль пройти в кинотеатр «карый 11 октябрь» новый арбат д.24 на площадка быть работать стенд почта россия гость который смочь подписать открытка и сразу же отправить её опустить в почтовый ящик.<br><br>такж в день фестиваль с 3 по 6 ноябрь в культурный центр зил быть работать уникальный развлекательно-образовательный площадка для весь семья - «фабрика мультфильмов» здесь ребёнок и взрослый смочь не только попробовать себя в качество аниматор но и смастерить свой рука почтовый открытка с изображение персонаж из мультфильм и отправить они родной и друг в весь город россия приходить вы ждать много интересного!<br><br>полный текст новость https://www.pochta.ru/news-list/item/381355524<br><br>#почтароссия #москва #открытка #посткроссинг #postcrossing\n",
            "__label__mospolice 27 ноябрь день матери<br> <br>длить каждый человек на земля есть один но самый близкий и родной слово - мама.<br><br>ный фото начальник отделение по связь с сми увд по свао гу мвд россия по год москва старший лейтенант внутренний служба екатерина пулькова с сыном.<br><br>#мвд #петровка38 #полиция #новость #деньматерь #мамочка #селфисмама\n",
            "__label__mil тренировка расчёт самоходный артиллерийский комплекс «берег» черноморский флот на полигон железный рог<br><br>#миноборона #чф #берег\n",
            "__label__mchsgov #мчс #мчсроссия <br><br>спасатель дальневосточный поисково-спасательный отряд мчс россия эвакуировать более десятка пострадавший рыбак из бухта мелководный в магаданский области.<br><br>http://www.mchs.gov.ru/dop/info/smi/news/item/33490577/\n",
            "__label__mil россия готовый поделиться с мьянма опыт борьба с беспилотный летательный аппарат дальний действие который использовать для террористический атака боевик в сирия о это сегодня заявить министр оборона рф генерал армия сергей шойгу в время встреча с главнокомандующий вооружённый сила мьянма старший генерал мина аунг хлайном<br><br>«ть сирия появиться новый вид террористический угроза — беспилотный летательный аппарат дальность который составлять более 100 километр мы готовый поделиться опыт борьба с этот угрозами» — сказать глава военный ведомство россия он обратить внимание что террористический атака с помощь дронов мочь сегодня совершаться не только в сирия <br><br>«этый очень серьёзный угроза и мы готовый поделиться тем опыт который уже иметь по борьба с беспилотник который стать использовать террористы» — отметить генерал армия сергей шойгу <br><br>проблема противодействие террористический угроза чрезвычайно актуальный для мьянма в свой очередь старший генерал мина аунг хлайна проинформировать свой российский коллега что делегация из мьянма быть участвовать в работа очередной международный конференция по безопасность который пройти в москва в это год а также в несколько конкурс армейский международный игр-2018.<br><br>#миноборона #шойгу #международнаядеятельность #мьянма\n",
            "__label__mil участник совместный учение подразделение #вдть россия и ссо белоруссия в псковский область готовиться к десантирование\n",
            "__label__russianpost если вы пришлый почтовый отправление а вы не мочь сразу забрать он помнить что оно быть храниться в отделение 30 день исключение составлять судебный уведомление они срок хранение составлять лишь 7 день <br><br>срок хранение регистрировать отправление можно продлить до 2 месяц с день поступление в отделение для это адресат или он доверенный лицо должный подать в отделение куда прибыть посылка письменный заявление с указание паспортный данных.<br><br>когда посылка приходить в отделение адресат отправляться извещение о она прибытие если в течение пять день клиент не прийти за посылка он выписать повторный извещение причём в некоторый случай за дальнейший хранение мочь взиматься плата.<br> <br>по окончание срок хранение посылка заказной и ценный письмо и бандероль быть возвратить отправитель простой письмо бандероль открытка не возвращаться они считаться невостребованный и храниться 6 месяц в отделение после что уничтожаются.<br><br>#важно_знать #важно_знать_почтароссия #услугипочта #почтароссия\n",
            "__label__russianpost в петрозаводск в национальный музей республика карелия проходить выставка «открытка история и современность» экспозиция включать самый разнообразный карточка праздничный сувенирный открытка-размышление открытка-воспоминание и авторский арт-работа весь выставка разделить на 12 месяц и в рамка каждый демонстрироваться карточка для ключевой праздник новое год день защитник отечество 8 март и т.д <br><br>по открытка можно увидеть изменение который произойти в жизнь человек и целое государство за последний десятилетие даже сейчас в цифровой век открытка востребовать и современный в экспозиция представить и совсем новое работа художник а ещё при выставка работать сувенирный лавка здесь можно купить интересный карточка и отправить с помощь почтовый ящик который установленный тут же в музей <br><br>выставка работать до 1 февраля.<br><br>#открытка #выставка #карелия #почтароссия\n",
            "__label__mospolice член общественный совет при увд по сао фёдор павлич поздравить ветеран с юбилей <br><br>член общественный совет при увд по северный административный округа председатель совет ветеран увд фёдор павлич совместно с руководитель подразделение окружный управление поздравить ветеран орган внутренний дело анатолий сушина с 70-летний юбилей <br> <br> «желать вы в свой 70 год быть оптимист не унывать стараться не болеть не стареть и служить пример для молодая поколений» – поздравить юбиляр фёдор павлич <br> <br>анатолий илларион сушина подполковник милиция в отставка с 1966 год проходить служба в советский армия в 1969 – демобилизоваться в звание сержант в тот же год поступить на служба в орган внутренний дело за 25-летний служба ветеран дослужиться до звание подполковник милиция стать начальник отдел охрана общественный порядок овд фрунзенский район год москва <br> <br>юбиляр наградить государственный награда и ведомственнный знак отличие в тот число медаль «за трудовой доблесть» и знак мвд «отличник милиции» <br> <br>#мвд #петровка38 #полиция #полицейский #ветеран #юбилей\n",
            "__label__mospolice на должность начальник управление информация и общественный связь орган внутренний дело москва назначить александр князев<br><br>#мвд #петровка38 #полиция #новости<br><br>https://youtu.be/jcncvge9nsw\n"
          ],
          "name": "stdout"
        }
      ]
    },
    {
      "cell_type": "code",
      "metadata": {
        "id": "ZpJ4fQtP2ahT",
        "colab_type": "code",
        "colab": {
          "base_uri": "https://localhost:8080/",
          "height": 328
        },
        "outputId": "319717e8-6b62-4ba7-f66a-d39654424103"
      },
      "source": [
        "classifier = fasttext.supervised('data_train.txt', 'model')\n",
        "y_pred = classifier.predict(X_test_lemmas)\n",
        "print(f\"Accuracy: {accuracy_score(y_test, y_pred)}\") #достаточно хорошо!\n",
        "cm = confusion_matrix(y_test, y_pred)\n",
        "plot_confusion_matrix(cm)"
      ],
      "execution_count": 61,
      "outputs": [
        {
          "output_type": "stream",
          "text": [
            "Accuracy: 0.9677307425399029\n"
          ],
          "name": "stdout"
        },
        {
          "output_type": "display_data",
          "data": {
            "image/png": "[encoded data removed]",
            "text/plain": [
              "<Figure size 432x288 with 2 Axes>"
            ]
          },
          "metadata": {
            "tags": []
          }
        }
      ]
    },
    {
      "cell_type": "markdown",
      "metadata": {
        "id": "F3CUZjX4aKZF",
        "colab_type": "text"
      },
      "source": [
        "## Задание 8 [4 балла]. CNN\n",
        "\n",
        "Реализуйте модель Kim et al (2014) для решения задачи классификации с помощью CNN. Оцените результаты классификации по стандартным мерам качества и проведите анализ ошибок. Для этого рекомендуем визуализировать матрицу ошибок (confusion matrix).\n",
        "Ссылка: Kim Y. Convolutional Neural Networks for Sentence Classification. 2014"
      ]
    },
    {
      "cell_type": "code",
      "metadata": {
        "id": "8ldYkCoV3XxW",
        "colab_type": "code",
        "colab": {
          "base_uri": "https://localhost:8080/",
          "height": 34
        },
        "outputId": "03aee065-5287-42a4-f109-dc8fc9e3fed8"
      },
      "source": [
        "from sklearn.preprocessing import LabelEncoder\n",
        "from keras.utils import to_categorical\n",
        "from keras.preprocessing.sequence import pad_sequences\n",
        "from keras import layers as L\n",
        "from keras.models import Sequential"
      ],
      "execution_count": 62,
      "outputs": [
        {
          "output_type": "stream",
          "text": [
            "Using TensorFlow backend.\n"
          ],
          "name": "stderr"
        }
      ]
    },
    {
      "cell_type": "code",
      "metadata": {
        "id": "K5mn1wIv43kh",
        "colab_type": "code",
        "colab": {}
      },
      "source": [
        "#препроцессим\n",
        "def text_to_sequence(text, vocab, vocab_size):\n",
        "    seq = []\n",
        "    for token in text:\n",
        "        if token in vocab:\n",
        "            seq.append(vocab[token])\n",
        "        else:\n",
        "            seq.append(vocab_size)\n",
        "    return seq\n",
        "\n",
        "encoder = LabelEncoder()\n",
        "encoder.fit(['mchsgov', 'mil', 'mospolice', 'russianpost'])\n",
        "y_train = to_categorical(encoder.transform(y_train), 4)\n",
        "y_true = y_test\n",
        "y_test = to_categorical(encoder.transform(y_test), 4)\n",
        "\n",
        "#векторизуем\n",
        "tokens = [i for i in ' '.join(X_train_lemmas).split(' ') if i not in stopwords]\n",
        "vocab_size = len(tokens) + 2\n",
        "vocab = {word: index for index, word in dict(enumerate(tokens, start=1)).items()}\n",
        "X_train = [text_to_sequence(tokenize(text), vocab, vocab_size) for text in X_train_lemmas]\n",
        "X_test = [text_to_sequence(tokenize(text), vocab, vocab_size) for text in X_test_lemmas]\n",
        "#приводим тексты к одинаковой длине\n",
        "X_train = pad_sequences(X_train, maxlen=100, padding='post')\n",
        "X_test = pad_sequences(X_test, maxlen=100, padding='post')"
      ],
      "execution_count": 0,
      "outputs": []
    },
    {
      "cell_type": "code",
      "metadata": {
        "id": "lP37bsyS3KCw",
        "colab_type": "code",
        "colab": {
          "base_uri": "https://localhost:8080/",
          "height": 1020
        },
        "outputId": "b66e3f2d-d8ce-4033-f86a-1131369f7a77"
      },
      "source": [
        "model = Sequential()\n",
        "model.add(L.Embedding(vocab_size,\n",
        "                            300,\n",
        "                            input_length=100,\n",
        "                            trainable=True))\n",
        "model.add(L.Conv1D(128, 5, activation='relu'))\n",
        "model.add(L.MaxPooling1D())\n",
        "model.add(L.Dropout(0.2))\n",
        "model.add(L.Flatten())\n",
        "model.add(L.Dense(4, activation = 'softmax'))\n",
        "model.compile(optimizer='adam', loss='binary_crossentropy', metrics=['acc'])\n",
        "model.compile(loss='categorical_crossentropy', optimizer='adam', metrics=['accuracy'])\n",
        "history = model.fit(X_train, y_train,\n",
        "                    batch_size=100,\n",
        "                    epochs=10,\n",
        "                    verbose=1,\n",
        "                    validation_split=0.1)"
      ],
      "execution_count": 64,
      "outputs": [
        {
          "output_type": "stream",
          "text": [
            "WARNING:tensorflow:From /usr/local/lib/python3.6/dist-packages/tensorflow/python/framework/op_def_library.py:263: colocate_with (from tensorflow.python.framework.ops) is deprecated and will be removed in a future version.\n",
            "Instructions for updating:\n",
            "Colocations handled automatically by placer.\n",
            "WARNING:tensorflow:From /usr/local/lib/python3.6/dist-packages/keras/backend/tensorflow_backend.py:3445: calling dropout (from tensorflow.python.ops.nn_ops) with keep_prob is deprecated and will be removed in a future version.\n",
            "Instructions for updating:\n",
            "Please use `rate` instead of `keep_prob`. Rate should be set to `rate = 1 - keep_prob`.\n",
            "WARNING:tensorflow:From /usr/local/lib/python3.6/dist-packages/tensorflow/python/ops/math_ops.py:3066: to_int32 (from tensorflow.python.ops.math_ops) is deprecated and will be removed in a future version.\n",
            "Instructions for updating:\n",
            "Use tf.cast instead.\n"
          ],
          "name": "stdout"
        },
        {
          "output_type": "stream",
          "text": [
            "/usr/local/lib/python3.6/dist-packages/tensorflow/python/ops/gradients_impl.py:107: UserWarning: Converting sparse IndexedSlices to a dense Tensor with 176983800 elements. This may consume a large amount of memory.\n",
            "  num_elements)\n"
          ],
          "name": "stderr"
        },
        {
          "output_type": "stream",
          "text": [
            "Train on 7779 samples, validate on 865 samples\n",
            "Epoch 1/10\n",
            "7779/7779 [==============================] - 18s 2ms/step - loss: 0.6940 - acc: 0.7329 - val_loss: 0.1508 - val_acc: 0.9561\n",
            "Epoch 2/10\n",
            "7779/7779 [==============================] - 10s 1ms/step - loss: 0.0900 - acc: 0.9763 - val_loss: 0.0997 - val_acc: 0.9757\n",
            "Epoch 3/10\n",
            "7779/7779 [==============================] - 10s 1ms/step - loss: 0.0277 - acc: 0.9938 - val_loss: 0.1112 - val_acc: 0.9665\n",
            "Epoch 4/10\n",
            "7779/7779 [==============================] - 10s 1ms/step - loss: 0.0110 - acc: 0.9974 - val_loss: 0.1151 - val_acc: 0.9665\n",
            "Epoch 5/10\n",
            "7779/7779 [==============================] - 10s 1ms/step - loss: 0.0066 - acc: 0.9988 - val_loss: 0.1129 - val_acc: 0.9723\n",
            "Epoch 6/10\n",
            "7779/7779 [==============================] - 10s 1ms/step - loss: 0.0040 - acc: 0.9994 - val_loss: 0.1179 - val_acc: 0.9711\n",
            "Epoch 7/10\n",
            "7779/7779 [==============================] - 10s 1ms/step - loss: 0.0029 - acc: 0.9992 - val_loss: 0.1262 - val_acc: 0.9699\n",
            "Epoch 8/10\n",
            "7779/7779 [==============================] - 10s 1ms/step - loss: 0.0028 - acc: 0.9992 - val_loss: 0.1215 - val_acc: 0.9734\n",
            "Epoch 9/10\n",
            "7779/7779 [==============================] - 10s 1ms/step - loss: 0.0026 - acc: 0.9996 - val_loss: 0.1314 - val_acc: 0.9676\n",
            "Epoch 10/10\n",
            "7779/7779 [==============================] - 10s 1ms/step - loss: 0.0029 - acc: 0.9995 - val_loss: 0.1374 - val_acc: 0.9653\n"
          ],
          "name": "stdout"
        }
      ]
    },
    {
      "cell_type": "code",
      "metadata": {
        "id": "RKU6o6Aj3nEv",
        "colab_type": "code",
        "colab": {
          "base_uri": "https://localhost:8080/",
          "height": 51
        },
        "outputId": "d89a3c29-f831-467a-c840-e52bf2f5b67c"
      },
      "source": [
        "score = model.evaluate(X_test, y_test,\n",
        "                       batch_size=100, verbose=1)\n",
        "print('Test accuracy:', score[1]) #она высока!"
      ],
      "execution_count": 65,
      "outputs": [
        {
          "output_type": "stream",
          "text": [
            "2882/2882 [==============================] - 0s 27us/step\n",
            "Test accuracy: 0.9607911198855604\n"
          ],
          "name": "stdout"
        }
      ]
    },
    {
      "cell_type": "code",
      "metadata": {
        "id": "n7qPcnKfJv0d",
        "colab_type": "code",
        "colab": {}
      },
      "source": [
        "y_pred = model.predict_classes(X_test)\n",
        "y_pred = encoder.inverse_transform(y_pred)"
      ],
      "execution_count": 0,
      "outputs": []
    },
    {
      "cell_type": "code",
      "metadata": {
        "id": "ZnSDegknJ4Rn",
        "colab_type": "code",
        "colab": {
          "base_uri": "https://localhost:8080/",
          "height": 311
        },
        "outputId": "c9a5b03f-b123-4cd0-8f36-3f47ea12deab"
      },
      "source": [
        "cm = confusion_matrix(y_true, y_pred)\n",
        "plot_confusion_matrix(cm)"
      ],
      "execution_count": 67,
      "outputs": [
        {
          "output_type": "display_data",
          "data": {
            "image/png": "[encoded data removed]",
            "text/plain": [
              "<Figure size 432x288 with 2 Axes>"
            ]
          },
          "metadata": {
            "tags": []
          }
        }
      ]
    },
    {
      "cell_type": "markdown",
      "metadata": {
        "id": "R8P-yRLyaKZK",
        "colab_type": "text"
      },
      "source": [
        "## Задание 9 [4 + 2 балла]. RNN\n",
        "\n",
        "(4 балла)Используйте ```RNN``` (BLSTM с какими-то признаками и пулинг поверх) для решения задачи текстовой классификации. Оцените результаты классификации по стандартным мерам качества и проведите анализ ошибок. Для этого рекомендуем визуализировать матрицу ошибок (confusion matrix).\n",
        "\n",
        "За дополнительные 2 балла добавьте в модель символьные признаки - CharCNN или CharRNN"
      ]
    },
    {
      "cell_type": "code",
      "metadata": {
        "id": "LFjPR1EdMMFr",
        "colab_type": "code",
        "colab": {
          "base_uri": "https://localhost:8080/",
          "height": 1020
        },
        "outputId": "4ca47545-0e5e-4b60-ac38-e4d0e70c22f4"
      },
      "source": [
        "model = Sequential()\n",
        "model.add(L.Embedding(vocab_size,\n",
        "                            300,\n",
        "                            input_length=100,\n",
        "                            trainable=True))\n",
        "model.add(L.Bidirectional(L.LSTM(64, return_sequences=True)))\n",
        "model.add(L.MaxPooling1D())\n",
        "model.add(L.Dropout(0.2))\n",
        "model.add(L.Flatten())\n",
        "model.add(L.Dense(4, activation = 'softmax'))\n",
        "model.compile(optimizer='adam', loss='binary_crossentropy', metrics=['acc'])\n",
        "model.compile(loss='categorical_crossentropy', optimizer='adam', metrics=['accuracy'])\n",
        "history = model.fit(X_train, y_train,\n",
        "                    batch_size=100,\n",
        "                    epochs=10,\n",
        "                    verbose=1,\n",
        "                    validation_split=0.1)"
      ],
      "execution_count": 68,
      "outputs": [
        {
          "output_type": "stream",
          "text": [
            "/usr/local/lib/python3.6/dist-packages/tensorflow/python/ops/gradients_impl.py:107: UserWarning: Converting sparse IndexedSlices to a dense Tensor with 176983800 elements. This may consume a large amount of memory.\n",
            "  num_elements)\n"
          ],
          "name": "stderr"
        },
        {
          "output_type": "stream",
          "text": [
            "Train on 7779 samples, validate on 865 samples\n",
            "Epoch 1/10\n",
            "7779/7779 [==============================] - 39s 5ms/step - loss: 0.6564 - acc: 0.7465 - val_loss: 0.1242 - val_acc: 0.9607\n",
            "Epoch 2/10\n",
            "7779/7779 [==============================] - 34s 4ms/step - loss: 0.0855 - acc: 0.9779 - val_loss: 0.1080 - val_acc: 0.9653\n",
            "Epoch 3/10\n",
            "7779/7779 [==============================] - 34s 4ms/step - loss: 0.0273 - acc: 0.9932 - val_loss: 0.1182 - val_acc: 0.9688\n",
            "Epoch 4/10\n",
            "7779/7779 [==============================] - 34s 4ms/step - loss: 0.0102 - acc: 0.9979 - val_loss: 0.1281 - val_acc: 0.9734\n",
            "Epoch 5/10\n",
            "7779/7779 [==============================] - 34s 4ms/step - loss: 0.0073 - acc: 0.9982 - val_loss: 0.1501 - val_acc: 0.9584\n",
            "Epoch 6/10\n",
            "7779/7779 [==============================] - 34s 4ms/step - loss: 0.0082 - acc: 0.9979 - val_loss: 0.1446 - val_acc: 0.9746\n",
            "Epoch 7/10\n",
            "7779/7779 [==============================] - 34s 4ms/step - loss: 0.0040 - acc: 0.9991 - val_loss: 0.1676 - val_acc: 0.9688\n",
            "Epoch 8/10\n",
            "7779/7779 [==============================] - 34s 4ms/step - loss: 0.0067 - acc: 0.9983 - val_loss: 0.1496 - val_acc: 0.9734\n",
            "Epoch 9/10\n",
            "7779/7779 [==============================] - 34s 4ms/step - loss: 0.0063 - acc: 0.9990 - val_loss: 0.1419 - val_acc: 0.9723\n",
            "Epoch 10/10\n",
            "7779/7779 [==============================] - 34s 4ms/step - loss: 0.0040 - acc: 0.9991 - val_loss: 0.1503 - val_acc: 0.9676\n"
          ],
          "name": "stdout"
        }
      ]
    },
    {
      "cell_type": "code",
      "metadata": {
        "id": "k51Mlr4TbzX1",
        "colab_type": "code",
        "colab": {
          "base_uri": "https://localhost:8080/",
          "height": 51
        },
        "outputId": "1c8ac44c-b492-4168-e2ef-ef5a20b81937"
      },
      "source": [
        "score = model.evaluate(X_test, y_test,\n",
        "                       batch_size=100, verbose=1)\n",
        "print('Test accuracy:', score[1])"
      ],
      "execution_count": 69,
      "outputs": [
        {
          "output_type": "stream",
          "text": [
            "2882/2882 [==============================] - 3s 1ms/step\n",
            "Test accuracy: 0.9600971580213511\n"
          ],
          "name": "stdout"
        }
      ]
    },
    {
      "cell_type": "code",
      "metadata": {
        "id": "LocXSipnbcd7",
        "colab_type": "code",
        "colab": {}
      },
      "source": [
        "y_pred = model.predict_classes(X_test)\n",
        "y_pred = encoder.inverse_transform(y_pred)"
      ],
      "execution_count": 0,
      "outputs": []
    },
    {
      "cell_type": "code",
      "metadata": {
        "id": "_72Y75XlbtEq",
        "colab_type": "code",
        "colab": {
          "base_uri": "https://localhost:8080/",
          "height": 311
        },
        "outputId": "f7e7a88c-2e40-4d9d-9f20-516765296cf5"
      },
      "source": [
        "cm = confusion_matrix(y_true, y_pred)\n",
        "plot_confusion_matrix(cm)"
      ],
      "execution_count": 71,
      "outputs": [
        {
          "output_type": "display_data",
          "data": {
            "image/png": "[encoded data removed]",
            "text/plain": [
              "<Figure size 432x288 with 2 Axes>"
            ]
          },
          "metadata": {
            "tags": []
          }
        }
      ]
    },
    {
      "cell_type": "code",
      "metadata": {
        "id": "T9rtF2imb57a",
        "colab_type": "code",
        "colab": {}
      },
      "source": [
        "#та же LSTM, но с символьными признаками\n",
        "\n",
        "def text_to_sequence(text, vocab, vocab_size):\n",
        "    seq = []\n",
        "    for token in text:\n",
        "        if token in vocab:\n",
        "            seq.append(vocab[token])\n",
        "        else:\n",
        "            seq.append(vocab_size)\n",
        "    return seq\n",
        "\n",
        "chars = set(' '.join(X_train_lemmas)) #все встречающиеся символы\n",
        "vocab = dict((c, i) for i, c in enumerate(chars))\n",
        "vocab_size = len(chars) + 2\n",
        "X_train_chars = [text_to_sequence(text, vocab, vocab_size) for text in X_train_lemmas]\n",
        "X_test_chars = [text_to_sequence(text, vocab, vocab_size) for text in X_test_lemmas]\n",
        "X_train_chars = pad_sequences(X_train_chars, maxlen=700, padding='post') #maxlen чуть больше, чем средняя длина в символах\n",
        "X_test_chars = pad_sequences(X_test_chars, maxlen=700, padding='post')"
      ],
      "execution_count": 0,
      "outputs": []
    },
    {
      "cell_type": "code",
      "metadata": {
        "id": "-wF0-M6MdV0M",
        "colab_type": "code",
        "colab": {
          "base_uri": "https://localhost:8080/",
          "height": 374
        },
        "outputId": "be345109-a9f0-4808-b338-eb9eb03dcb45"
      },
      "source": [
        "model = Sequential()\n",
        "model.add(L.Embedding(vocab_size,\n",
        "                            300,\n",
        "                            input_length=700,\n",
        "                            trainable=True))\n",
        "model.add(L.Bidirectional(L.LSTM(64, return_sequences=True)))\n",
        "model.add(L.MaxPooling1D())\n",
        "model.add(L.Dropout(0.2))\n",
        "model.add(L.Flatten())\n",
        "model.add(L.Dense(4, activation = 'softmax'))\n",
        "model.compile(optimizer='adam', loss='binary_crossentropy', metrics=['acc'])\n",
        "model.compile(loss='categorical_crossentropy', optimizer='adam', metrics=['accuracy'])\n",
        "history = model.fit(X_train_chars, y_train,\n",
        "                    batch_size=100,\n",
        "                    epochs=10,\n",
        "                    verbose=1,\n",
        "                    validation_split=0.1)"
      ],
      "execution_count": 73,
      "outputs": [
        {
          "output_type": "stream",
          "text": [
            "Train on 7779 samples, validate on 865 samples\n",
            "Epoch 1/10\n",
            "7779/7779 [==============================] - 157s 20ms/step - loss: 0.8077 - acc: 0.6907 - val_loss: 0.4064 - val_acc: 0.8751\n",
            "Epoch 2/10\n",
            "7779/7779 [==============================] - 156s 20ms/step - loss: 0.3585 - acc: 0.8849 - val_loss: 0.3132 - val_acc: 0.8902\n",
            "Epoch 3/10\n",
            "7779/7779 [==============================] - 155s 20ms/step - loss: 0.2537 - acc: 0.9188 - val_loss: 0.2637 - val_acc: 0.9121\n",
            "Epoch 4/10\n",
            "7779/7779 [==============================] - 155s 20ms/step - loss: 0.2138 - acc: 0.9298 - val_loss: 0.2728 - val_acc: 0.9040\n",
            "Epoch 5/10\n",
            "7779/7779 [==============================] - 154s 20ms/step - loss: 0.1703 - acc: 0.9450 - val_loss: 0.2379 - val_acc: 0.9329\n",
            "Epoch 6/10\n",
            "7779/7779 [==============================] - 155s 20ms/step - loss: 0.1197 - acc: 0.9632 - val_loss: 0.2826 - val_acc: 0.9179\n",
            "Epoch 7/10\n",
            "7779/7779 [==============================] - 155s 20ms/step - loss: 0.1047 - acc: 0.9664 - val_loss: 0.2354 - val_acc: 0.9260\n",
            "Epoch 8/10\n",
            "7779/7779 [==============================] - 155s 20ms/step - loss: 0.0705 - acc: 0.9805 - val_loss: 0.2692 - val_acc: 0.9272\n",
            "Epoch 9/10\n",
            "7779/7779 [==============================] - 154s 20ms/step - loss: 0.0601 - acc: 0.9846 - val_loss: 0.2701 - val_acc: 0.9295\n",
            "Epoch 10/10\n",
            "7779/7779 [==============================] - 154s 20ms/step - loss: 0.0493 - acc: 0.9879 - val_loss: 0.2756 - val_acc: 0.9306\n"
          ],
          "name": "stdout"
        }
      ]
    },
    {
      "cell_type": "code",
      "metadata": {
        "id": "o2TWaKVJjl3V",
        "colab_type": "code",
        "colab": {
          "base_uri": "https://localhost:8080/",
          "height": 51
        },
        "outputId": "7981418f-0489-4344-9942-2846e41d27de"
      },
      "source": [
        "score = model.evaluate(X_test_chars, y_test,\n",
        "                       batch_size=700, verbose=1)\n",
        "print('Test accuracy:', score[1]) #char-rnn работает достаточно хорошо"
      ],
      "execution_count": 77,
      "outputs": [
        {
          "output_type": "stream",
          "text": [
            "2882/2882 [==============================] - 4s 1ms/step\n",
            "Test accuracy: 0.9170714814492517\n"
          ],
          "name": "stdout"
        }
      ]
    },
    {
      "cell_type": "code",
      "metadata": {
        "id": "U47u_BMijwDb",
        "colab_type": "code",
        "colab": {}
      },
      "source": [
        "y_pred = model.predict_classes(X_test_chars)\n",
        "y_pred = encoder.inverse_transform(y_pred)"
      ],
      "execution_count": 0,
      "outputs": []
    },
    {
      "cell_type": "code",
      "metadata": {
        "id": "UWPISVX-j3ON",
        "colab_type": "code",
        "colab": {
          "base_uri": "https://localhost:8080/",
          "height": 311
        },
        "outputId": "e6bfef26-ae51-444d-b3bb-45cd6e4f7a4b"
      },
      "source": [
        "cm = confusion_matrix(y_true, y_pred)\n",
        "plot_confusion_matrix(cm)"
      ],
      "execution_count": 79,
      "outputs": [
        {
          "output_type": "display_data",
          "data": {
            "image/png": "[encoded data removed]",
            "text/plain": [
              "<Figure size 432x288 with 2 Axes>"
            ]
          },
          "metadata": {
            "tags": []
          }
        }
      ]
    },
    {
      "cell_type": "markdown",
      "metadata": {
        "id": "YnhSB1MFaKZR",
        "colab_type": "text"
      },
      "source": [
        "## Задание 10 [8 баллов]. ULMFit\n",
        "\n",
        "Используйте ```ULMFit``` для решения задачи классификации. Оцените результаты классификации по стандартным мерам качества и проведите анализ ошибок. Для этого рекомендуем визуализировать матрицу ошибок (confusion matrix). "
      ]
    },
    {
      "cell_type": "markdown",
      "metadata": {
        "colab_type": "text",
        "id": "_8fKqCD6Q5tW"
      },
      "source": [
        "## Конец\n",
        "Выполните какие-то из предыдущих заданий. Для всех заданий, кроме задания 1 требуется вычислить метрику accuracy метода.\n",
        "\n",
        "Подведите итоги и проведите сравнение всех использованных методов. Какой из них показался вам лучше и почему?\n",
        "\n",
        "**NB!** Задание обязательное вне зависимости от того, сколько из предыдущих пунктов вы выполнили, и дополнительных баллов не дает.\n",
        "\n",
        "\n",
        "Для получения полной оценки за NLP-часть достаточно набрать **20 баллов**."
      ]
    },
    {
      "cell_type": "markdown",
      "metadata": {
        "id": "5-o9_Mf3zZyn",
        "colab_type": "text"
      },
      "source": [
        "Accuracy у разных классификаторов:\n",
        "\n",
        "\n",
        "*   Правиловый – 0.66\n",
        "*   Baseline – 0.970\n",
        "*   Baseline со снижением размерности – 0.585\n",
        "*   Baseline с лемматизацией – 0.971\n",
        "*   Baseline с лемматизацией и CBOW – 0.899 в лучшем случае\n",
        "*   Fasttext – 0.968.\n",
        "*   CNN – 0.960.\n",
        "*   RNN (BLSTM) по словам – 0.960\n",
        "*   RNN (BLSTM) посимвольно – 0.917.\n",
        "Все классификаторы, кроме правилового и использующего генсимовский doc2vec для векторного представления документов, дают хорошую accuracy. Лемматизация чуть-чуть её улучшает. Странно, но разные методы снижения размерности не повышают accuracy, а понижают."
      ]
    },
    {
      "cell_type": "markdown",
      "metadata": {
        "colab_type": "text",
        "id": "4FkOuR_NiXeT"
      },
      "source": [
        "# Правила сдачи \n",
        "\n",
        "1. Домашняя работа должна быть выполнена в ipynb-тетрадке.\n",
        "2. Сделанную тетрадку нужно отправить ассистенту (ссылка на контакты будет в вики).\n",
        "3. Задание выполняется индивидуально.\n",
        "4. Все вычисления должны быть снабжены пояснениями!\n",
        "5. Дедлайн – 10 июня в 10.00.\n"
      ]
    },
    {
      "cell_type": "code",
      "metadata": {
        "id": "P22_ja-NaKZX",
        "colab_type": "code",
        "colab": {}
      },
      "source": [
        ""
      ],
      "execution_count": 0,
      "outputs": []
    }
  ]
}