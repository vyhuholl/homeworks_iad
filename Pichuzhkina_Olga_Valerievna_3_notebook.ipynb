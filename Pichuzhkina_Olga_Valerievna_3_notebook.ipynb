{
 "cells": [
  {
   "cell_type": "markdown",
   "metadata": {
    "colab_type": "text",
    "id": "F8tRT2-Dsa5R"
   },
   "source": [
    "# Imports"
   ]
  },
  {
   "cell_type": "code",
   "execution_count": 0,
   "metadata": {
    "ExecuteTime": {
     "end_time": "2018-11-07T16:08:15.388798Z",
     "start_time": "2018-11-07T16:08:15.081241Z"
    },
    "colab": {},
    "colab_type": "code",
    "collapsed": true,
    "id": "30iDclf3sa5a"
   },
   "outputs": [],
   "source": [
    "import zipfile\n",
    "import numpy as np\n",
    "import pandas as pd\n",
    "import os\n",
    "import tqdm\n",
    "import matplotlib \n",
    "%matplotlib inline\n",
    "import matplotlib.pyplot as plt\n",
    "import csv"
   ]
  },
  {
   "cell_type": "markdown",
   "metadata": {
    "colab_type": "text",
    "id": "FhLSzgDnsa5n"
   },
   "source": [
    "# Download data from Kaggle"
   ]
  },
  {
   "cell_type": "code",
   "execution_count": 2,
   "metadata": {
    "colab": {
     "base_uri": "https://localhost:8080/",
     "height": 522
    },
    "colab_type": "code",
    "id": "5LienSI3sa5q",
    "outputId": "0bdc3549-96d9-4120-fba7-25c48795d961"
   },
   "outputs": [
    {
     "name": "stdout",
     "output_type": "stream",
     "text": [
      "Collecting kaggle\n",
      "\u001b[?25l  Downloading https://files.pythonhosted.org/packages/83/9b/ac57e15fbb239c6793c8d0b7dfd1a4c4a025eaa9f791b5388a7afb515aed/kaggle-1.5.0.tar.gz (53kB)\n",
      "\r",
      "\u001b[K    19% |██████▏                         | 10kB 17.5MB/s eta 0:00:01\r",
      "\u001b[K    38% |████████████▎                   | 20kB 2.8MB/s eta 0:00:01\r",
      "\u001b[K    57% |██████████████████▌             | 30kB 3.2MB/s eta 0:00:01\r",
      "\u001b[K    77% |████████████████████████▋       | 40kB 3.0MB/s eta 0:00:01\r",
      "\u001b[K    96% |██████████████████████████████▉ | 51kB 3.6MB/s eta 0:00:01\r",
      "\u001b[K    100% |████████████████████████████████| 61kB 4.0MB/s \n",
      "\u001b[?25hRequirement already satisfied, skipping upgrade: urllib3<1.23.0,>=1.15 in /usr/local/lib/python3.6/dist-packages (from kaggle) (1.22)\n",
      "Requirement already satisfied, skipping upgrade: six>=1.10 in /usr/local/lib/python3.6/dist-packages (from kaggle) (1.11.0)\n",
      "Requirement already satisfied, skipping upgrade: certifi in /usr/local/lib/python3.6/dist-packages (from kaggle) (2018.10.15)\n",
      "Requirement already satisfied, skipping upgrade: python-dateutil in /usr/local/lib/python3.6/dist-packages (from kaggle) (2.5.3)\n",
      "Requirement already satisfied, skipping upgrade: requests in /usr/local/lib/python3.6/dist-packages (from kaggle) (2.18.4)\n",
      "Requirement already satisfied, skipping upgrade: tqdm in /usr/local/lib/python3.6/dist-packages (from kaggle) (4.28.1)\n",
      "Collecting python-slugify (from kaggle)\n",
      "  Downloading https://files.pythonhosted.org/packages/00/ad/c778a6df614b6217c30fe80045b365bfa08b5dd3cb02e8b37a6d25126781/python-slugify-1.2.6.tar.gz\n",
      "Requirement already satisfied, skipping upgrade: idna<2.7,>=2.5 in /usr/local/lib/python3.6/dist-packages (from requests->kaggle) (2.6)\n",
      "Requirement already satisfied, skipping upgrade: chardet<3.1.0,>=3.0.2 in /usr/local/lib/python3.6/dist-packages (from requests->kaggle) (3.0.4)\n",
      "Collecting Unidecode>=0.04.16 (from python-slugify->kaggle)\n",
      "\u001b[?25l  Downloading https://files.pythonhosted.org/packages/59/ef/67085e30e8bbcdd76e2f0a4ad8151c13a2c5bce77c85f8cad6e1f16fb141/Unidecode-1.0.22-py2.py3-none-any.whl (235kB)\n",
      "\u001b[K    100% |████████████████████████████████| 235kB 6.9MB/s \n",
      "\u001b[?25hBuilding wheels for collected packages: kaggle, python-slugify\n",
      "  Running setup.py bdist_wheel for kaggle ... \u001b[?25l-\b \b\\\b \bdone\n",
      "\u001b[?25h  Stored in directory: /root/.cache/pip/wheels/8b/21/3b/a0076243c6ae12a6215b2da515fe06b539aee7217b406e510e\n",
      "  Running setup.py bdist_wheel for python-slugify ... \u001b[?25l-\b \bdone\n",
      "\u001b[?25h  Stored in directory: /root/.cache/pip/wheels/e3/65/da/2045deea3098ed7471eca0e2460cfbd3fdfe8c1d6fa6fcac92\n",
      "Successfully built kaggle python-slugify\n",
      "Installing collected packages: Unidecode, python-slugify, kaggle\n",
      "Successfully installed Unidecode-1.0.22 kaggle-1.5.0 python-slugify-1.2.6\n"
     ]
    }
   ],
   "source": [
    "# we need to use python 3 version of Kaggle!\n",
    "# remove python 2 version with `pip uninstall kaggle`\n",
    "! pip3 install kaggle --upgrade"
   ]
  },
  {
   "cell_type": "code",
   "execution_count": 3,
   "metadata": {
    "ExecuteTime": {
     "end_time": "2018-11-06T15:29:19.895974Z",
     "start_time": "2018-11-06T15:26:21.334564Z"
    },
    "colab": {
     "base_uri": "https://localhost:8080/",
     "height": 68
    },
    "colab_type": "code",
    "id": "32qPRcpqsa52",
    "outputId": "7de32a5d-648e-477f-a858-299c653a9d04"
   },
   "outputs": [
    {
     "name": "stdout",
     "output_type": "stream",
     "text": [
      "Downloading train_simplified.zip to /content\n",
      "100% 7.36G/7.37G [00:54<00:00, 168MB/s]\n",
      "100% 7.37G/7.37G [00:54<00:00, 145MB/s]\n"
     ]
    }
   ],
   "source": [
    "# get <token> from https://www.kaggle.com/<user>/account, click \"Create New API Token\", open json file\n",
    "! KAGGLE_USERNAME=<user> KAGGLE_KEY=<token> kaggle competitions download -c quickdraw-doodle-recognition -f train_simplified.zip"
   ]
  },
  {
   "cell_type": "code",
   "execution_count": 0,
   "metadata": {
    "ExecuteTime": {
     "end_time": "2018-11-07T16:08:31.048432Z",
     "start_time": "2018-11-07T16:08:31.004128Z"
    },
    "colab": {},
    "colab_type": "code",
    "collapsed": true,
    "id": "o0XseQ5csa6C"
   },
   "outputs": [],
   "source": [
    "# open zip file, will read everything from it\n",
    "zf = zipfile.ZipFile(\"train_simplified.zip\")"
   ]
  },
  {
   "cell_type": "markdown",
   "metadata": {
    "colab_type": "text",
    "id": "CbOmUCH7sa6J"
   },
   "source": [
    "# Data generators from disk (no need to store in RAM)"
   ]
  },
  {
   "cell_type": "code",
   "execution_count": 5,
   "metadata": {
    "ExecuteTime": {
     "end_time": "2018-11-07T16:09:00.917240Z",
     "start_time": "2018-11-07T16:09:00.906369Z"
    },
    "colab": {
     "base_uri": "https://localhost:8080/",
     "height": 34
    },
    "colab_type": "code",
    "id": "cjcw5ia-sa6M",
    "outputId": "28a493e0-92f9-43b7-fc43-84528c0702a5"
   },
   "outputs": [
    {
     "data": {
      "text/plain": [
       "['fence', 'yoga', 'horse', 'sandwich', 'cat']"
      ]
     },
     "execution_count": 5,
     "metadata": {
      "tags": []
     },
     "output_type": "execute_result"
    }
   ],
   "source": [
    "class_labels = map(lambda x: x.replace(\".csv\", \"\"), zf.namelist())\n",
    "class_labels[:5]"
   ]
  },
  {
   "cell_type": "code",
   "execution_count": 0,
   "metadata": {
    "ExecuteTime": {
     "end_time": "2018-11-07T16:09:01.213496Z",
     "start_time": "2018-11-07T16:09:01.203670Z"
    },
    "colab": {},
    "colab_type": "code",
    "collapsed": true,
    "id": "Lt0FfnZfsa6S"
   },
   "outputs": [],
   "source": [
    "# loop through file eternally\n",
    "def get_eternal_csv_generator(fn, debug=False):\n",
    "    while True:\n",
    "        with zf.open(fn) as f:\n",
    "            f.readline()  # skip header\n",
    "            for line in csv.reader(f, delimiter=',', quotechar='\"'):\n",
    "                yield line[1], line[5]\n",
    "            if debug:\n",
    "                print fn, \"is done, starting from the beginning...\""
   ]
  },
  {
   "cell_type": "code",
   "execution_count": 0,
   "metadata": {
    "ExecuteTime": {
     "end_time": "2018-11-07T16:09:01.651230Z",
     "start_time": "2018-11-07T16:09:01.642356Z"
    },
    "colab": {},
    "colab_type": "code",
    "collapsed": true,
    "id": "J44kj5kisa6V"
   },
   "outputs": [],
   "source": [
    "def raw_batch_generator(batch_size, debug=False):\n",
    "    generators = np.array([get_eternal_csv_generator(fn, debug) for fn in zf.namelist()])\n",
    "    while True:\n",
    "        random_indices = np.random.randint(0, len(generators), size=batch_size)\n",
    "        yield [gen.next() for gen in generators[random_indices]]"
   ]
  },
  {
   "cell_type": "markdown",
   "metadata": {
    "colab_type": "text",
    "id": "Qfyk0GWmsa6a"
   },
   "source": [
    "# Images generator"
   ]
  },
  {
   "cell_type": "code",
   "execution_count": 0,
   "metadata": {
    "ExecuteTime": {
     "end_time": "2018-11-07T16:09:04.267262Z",
     "start_time": "2018-11-07T16:09:04.251004Z"
    },
    "colab": {},
    "colab_type": "code",
    "collapsed": true,
    "id": "jEL0iNV-sa6b"
   },
   "outputs": [],
   "source": [
    "# copy-paste from https://www.kaggle.com/jpmiller/image-based-cnn\n",
    "\n",
    "import ast\n",
    "from PIL import Image, ImageDraw\n",
    "\n",
    "IMG_SIZE = 64\n",
    "\n",
    "# faster conversion function\n",
    "def draw_it(strokes):\n",
    "    image = Image.new(\"P\", (256, 256), color=255)\n",
    "    image_draw = ImageDraw.Draw(image)\n",
    "    for stroke in ast.literal_eval(strokes):\n",
    "        for i in range(len(stroke[0])-1):\n",
    "            image_draw.line([stroke[0][i], \n",
    "                             stroke[1][i],\n",
    "                             stroke[0][i+1], \n",
    "                             stroke[1][i+1]],\n",
    "                            fill=0, width=5)\n",
    "    image = image.resize((IMG_SIZE, IMG_SIZE))\n",
    "    return np.array(image, dtype=np.uint8)"
   ]
  },
  {
   "cell_type": "code",
   "execution_count": 0,
   "metadata": {
    "ExecuteTime": {
     "end_time": "2018-11-07T16:09:07.131184Z",
     "start_time": "2018-11-07T16:09:07.120659Z"
    },
    "colab": {},
    "colab_type": "code",
    "collapsed": true,
    "id": "-eUe7Erpsa6d"
   },
   "outputs": [],
   "source": [
    "def images_and_labels_generator(batch_size):\n",
    "    for batch in raw_batch_generator(batch_size):\n",
    "        batch_images = []\n",
    "        batch_labels = []\n",
    "        for e in batch:\n",
    "            image = draw_it(e[0])\n",
    "            batch_images.append(image)\n",
    "            batch_labels.append(e[1])\n",
    "        batch_images = np.stack(batch_images, axis=0)\n",
    "        yield batch_images, batch_labels"
   ]
  },
  {
   "cell_type": "code",
   "execution_count": 10,
   "metadata": {
    "ExecuteTime": {
     "end_time": "2018-11-07T16:09:31.235828Z",
     "start_time": "2018-11-07T16:09:31.078072Z"
    },
    "colab": {
     "base_uri": "https://localhost:8080/",
     "height": 280
    },
    "colab_type": "code",
    "id": "1CRlUMYrsa6g",
    "outputId": "d002c5d0-47fc-48d2-d136-a3e235c38f00"
   },
   "outputs": [
    {
     "data": {
      "image/png": "[encoded data removed]",
      "text/plain": [
       "<matplotlib.figure.Figure at 0x7faead90af50>"
      ]
     },
     "metadata": {
      "tags": []
     },
     "output_type": "display_data"
    }
   ],
   "source": [
    "b = images_and_labels_generator(32).next()\n",
    "plt.imshow(b[0][10, :, :])\n",
    "plt.title(b[1][10])\n",
    "plt.show()"
   ]
  },
  {
   "cell_type": "markdown",
   "metadata": {
    "ExecuteTime": {
     "end_time": "2018-11-06T22:00:38.205119Z",
     "start_time": "2018-11-06T22:00:38.199739Z"
    },
    "colab_type": "text",
    "id": "NQsf2tgSsa6j"
   },
   "source": [
    "# Train simple network"
   ]
  },
  {
   "cell_type": "code",
   "execution_count": 11,
   "metadata": {
    "ExecuteTime": {
     "end_time": "2018-11-07T16:09:43.935122Z",
     "start_time": "2018-11-07T16:09:43.339804Z"
    },
    "colab": {
     "base_uri": "https://localhost:8080/",
     "height": 34
    },
    "colab_type": "code",
    "id": "dDhU6B67sa6k",
    "outputId": "302bad06-eb4f-4835-ee4c-a06a95d016bb"
   },
   "outputs": [
    {
     "name": "stderr",
     "output_type": "stream",
     "text": [
      "Using TensorFlow backend.\n"
     ]
    }
   ],
   "source": [
    "import tensorflow as tf\n",
    "import keras\n",
    "from keras import backend as K"
   ]
  },
  {
   "cell_type": "code",
   "execution_count": 0,
   "metadata": {
    "ExecuteTime": {
     "end_time": "2018-11-07T16:10:14.627454Z",
     "start_time": "2018-11-07T16:10:14.614258Z"
    },
    "colab": {},
    "colab_type": "code",
    "collapsed": true,
    "id": "W0L8uIhosa6o"
   },
   "outputs": [],
   "source": [
    "# reset graph when you change architecture!\n",
    "def reset_tf_session():\n",
    "    curr_session = tf.get_default_session()\n",
    "    # close current session\n",
    "    if curr_session is not None:\n",
    "        curr_session.close()\n",
    "    # reset graph\n",
    "    K.clear_session()\n",
    "    # create new session\n",
    "    config = tf.ConfigProto()\n",
    "    config.gpu_options.allow_growth = True\n",
    "    s = tf.InteractiveSession(config=config)\n",
    "    K.set_session(s)\n",
    "    return s"
   ]
  },
  {
   "cell_type": "code",
   "execution_count": 13,
   "metadata": {
    "ExecuteTime": {
     "end_time": "2018-11-07T16:10:20.833559Z",
     "start_time": "2018-11-07T16:10:20.820480Z"
    },
    "colab": {
     "base_uri": "https://localhost:8080/",
     "height": 102
    },
    "colab_type": "code",
    "id": "LIKVzsKfsa6q",
    "outputId": "c321b592-583a-49b8-db27-f4f0d1953b10",
    "scrolled": false
   },
   "outputs": [
    {
     "data": {
      "text/plain": [
       "[('snowman', 134),\n",
       " ('eyeglasses', 254),\n",
       " ('ceiling fan', 18),\n",
       " ('camel', 90),\n",
       " ('stove', 119)]"
      ]
     },
     "execution_count": 13,
     "metadata": {
      "tags": []
     },
     "output_type": "execute_result"
    }
   ],
   "source": [
    "NUM_CLASSES = len(class_labels)\n",
    "class_to_idx = {c: idx for idx, c in enumerate(class_labels)}\n",
    "class_to_idx.items()[:5]"
   ]
  },
  {
   "cell_type": "code",
   "execution_count": 0,
   "metadata": {
    "ExecuteTime": {
     "end_time": "2018-11-07T16:11:58.574802Z",
     "start_time": "2018-11-07T16:11:58.565415Z"
    },
    "colab": {},
    "colab_type": "code",
    "collapsed": true,
    "id": "IeL3xLdKsa6u"
   },
   "outputs": [],
   "source": [
    "def train_iterator(batch_size):\n",
    "    for batch in images_and_labels_generator(batch_size):\n",
    "        images = batch[0].astype('float32')\n",
    "        images = keras.utils.to_categorical(images, num_classes=NUM_CLASSES)\n",
    "        labels = keras.utils.to_categorical(map(class_to_idx.get, batch[1]), NUM_CLASSES)\n",
    "        yield images, labels"
   ]
  },
  {
   "cell_type": "code",
   "execution_count": 15,
   "metadata": {
    "ExecuteTime": {
     "end_time": "2018-11-07T16:11:59.923327Z",
     "start_time": "2018-11-07T16:11:59.898171Z"
    },
    "colab": {
     "base_uri": "https://localhost:8080/",
     "height": 51
    },
    "colab_type": "code",
    "id": "ql4MJt24sa6x",
    "outputId": "57ff9ab6-85e7-4bb0-f8f2-cbbd59799b37",
    "scrolled": true
   },
   "outputs": [
    {
     "name": "stdout",
     "output_type": "stream",
     "text": [
      "(32, 64, 64, 340)\n",
      "(32, 340)\n"
     ]
    }
   ],
   "source": [
    "sample = train_iterator(32).next()\n",
    "print sample[0].shape\n",
    "print sample[1].shape"
   ]
  },
  {
   "cell_type": "code",
   "execution_count": 0,
   "metadata": {
    "ExecuteTime": {
     "end_time": "2018-11-07T16:12:13.491949Z",
     "start_time": "2018-11-07T16:12:13.485091Z"
    },
    "colab": {},
    "colab_type": "code",
    "collapsed": true,
    "id": "ILuwohrEsa61"
   },
   "outputs": [],
   "source": [
    "# import necessary building blocks\n",
    "from keras.models import Sequential\n",
    "from keras.layers import Conv2D, MaxPooling2D, Flatten, Dense, Activation, Dropout, GlobalAveragePooling2D, LeakyReLU,\\\n",
    "    BatchNormalization"
   ]
  },
  {
   "cell_type": "code",
   "execution_count": 0,
   "metadata": {
    "ExecuteTime": {
     "end_time": "2018-11-07T16:15:15.162847Z",
     "start_time": "2018-11-07T16:15:15.148961Z"
    },
    "colab": {},
    "colab_type": "code",
    "collapsed": true,
    "id": "u4JG4IlDsa64"
   },
   "outputs": [],
   "source": [
    "def make_model():\n",
    "    \"\"\"\n",
    "    Define your model architecture here.\n",
    "    Returns `Sequential` model.\n",
    "    \"\"\"\n",
    "    model = Sequential()\n",
    "\n",
    "    ### YOUR CODE HERE: replace with a better model! Batch normalization really helps!\n",
    "    model.add(Conv2D(8, (3, 3), padding='same', activation='relu', input_shape=(IMG_SIZE, IMG_SIZE, 340)))\n",
    "    model.add(Conv2D(8, kernel_size=(3, 3), activation='relu'))\n",
    "    model.add(MaxPooling2D(pool_size=(2, 2), strides=(2, 2)))\n",
    "    model.add(BatchNormalization())\n",
    "    model.add(Conv2D(16, kernel_size=(3, 3), activation='relu'))\n",
    "    model.add(Conv2D(16, kernel_size=(3, 3), activation='relu'))\n",
    "    model.add(MaxPooling2D(pool_size=(2, 2), strides=(2, 2)))\n",
    "    model.add(BatchNormalization())\n",
    "    model.add(Conv2D(32, kernel_size=(3, 3), activation='relu'))\n",
    "    model.add(Conv2D(32, kernel_size=(3, 3), activation='relu'))\n",
    "    model.add(MaxPooling2D(pool_size=(2, 2), strides=(2, 2)))\n",
    "    model.add(BatchNormalization())\n",
    "    model.add(Conv2D(64, kernel_size=(3, 3), activation='relu'))\n",
    "    model.add(MaxPooling2D(pool_size=(2, 2), strides=(2, 2)))\n",
    "    model.add(BatchNormalization())\n",
    "\n",
    "    model.add(Flatten())\n",
    "    model.add(Dense(256, activation='relu'))\n",
    "    model.add(BatchNormalization())\n",
    "    model.add(Dense(NUM_CLASSES, activation='softmax'))\n",
    "    \n",
    "    return model"
   ]
  },
  {
   "cell_type": "code",
   "execution_count": 18,
   "metadata": {
    "ExecuteTime": {
     "end_time": "2018-11-07T16:15:16.796282Z",
     "start_time": "2018-11-07T16:15:16.726472Z"
    },
    "colab": {
     "base_uri": "https://localhost:8080/",
     "height": 782
    },
    "colab_type": "code",
    "id": "knGCzmUZsa67",
    "outputId": "7e1d6e6f-b776-408b-c176-653d8445a646"
   },
   "outputs": [
    {
     "name": "stdout",
     "output_type": "stream",
     "text": [
      "_________________________________________________________________\n",
      "Layer (type)                 Output Shape              Param #   \n",
      "=================================================================\n",
      "conv2d_1 (Conv2D)            (None, 64, 64, 8)         24488     \n",
      "_________________________________________________________________\n",
      "conv2d_2 (Conv2D)            (None, 62, 62, 8)         584       \n",
      "_________________________________________________________________\n",
      "max_pooling2d_1 (MaxPooling2 (None, 31, 31, 8)         0         \n",
      "_________________________________________________________________\n",
      "batch_normalization_1 (Batch (None, 31, 31, 8)         32        \n",
      "_________________________________________________________________\n",
      "conv2d_3 (Conv2D)            (None, 29, 29, 16)        1168      \n",
      "_________________________________________________________________\n",
      "conv2d_4 (Conv2D)            (None, 27, 27, 16)        2320      \n",
      "_________________________________________________________________\n",
      "max_pooling2d_2 (MaxPooling2 (None, 13, 13, 16)        0         \n",
      "_________________________________________________________________\n",
      "batch_normalization_2 (Batch (None, 13, 13, 16)        64        \n",
      "_________________________________________________________________\n",
      "conv2d_5 (Conv2D)            (None, 11, 11, 32)        4640      \n",
      "_________________________________________________________________\n",
      "conv2d_6 (Conv2D)            (None, 9, 9, 32)          9248      \n",
      "_________________________________________________________________\n",
      "max_pooling2d_3 (MaxPooling2 (None, 4, 4, 32)          0         \n",
      "_________________________________________________________________\n",
      "batch_normalization_3 (Batch (None, 4, 4, 32)          128       \n",
      "_________________________________________________________________\n",
      "conv2d_7 (Conv2D)            (None, 2, 2, 64)          18496     \n",
      "_________________________________________________________________\n",
      "max_pooling2d_4 (MaxPooling2 (None, 1, 1, 64)          0         \n",
      "_________________________________________________________________\n",
      "batch_normalization_4 (Batch (None, 1, 1, 64)          256       \n",
      "_________________________________________________________________\n",
      "flatten_1 (Flatten)          (None, 64)                0         \n",
      "_________________________________________________________________\n",
      "dense_1 (Dense)              (None, 256)               16640     \n",
      "_________________________________________________________________\n",
      "batch_normalization_5 (Batch (None, 256)               1024      \n",
      "_________________________________________________________________\n",
      "dense_2 (Dense)              (None, 340)               87380     \n",
      "=================================================================\n",
      "Total params: 166,468\n",
      "Trainable params: 165,716\n",
      "Non-trainable params: 752\n",
      "_________________________________________________________________\n"
     ]
    }
   ],
   "source": [
    "# describe model\n",
    "s = reset_tf_session()  # clear default graph\n",
    "model = make_model()\n",
    "model.summary()"
   ]
  },
  {
   "cell_type": "code",
   "execution_count": 0,
   "metadata": {
    "ExecuteTime": {
     "end_time": "2018-11-07T16:21:07.829654Z",
     "start_time": "2018-11-07T16:21:07.822122Z"
    },
    "colab": {},
    "colab_type": "code",
    "collapsed": true,
    "id": "o3Xwa9QGsa6_"
   },
   "outputs": [],
   "source": [
    "# custom metrics we need\n",
    "from keras.metrics import categorical_accuracy, top_k_categorical_accuracy\n",
    "\n",
    "def top_3_accuracy(y_true, y_pred):\n",
    "    return top_k_categorical_accuracy(y_true, y_pred, k=3)"
   ]
  },
  {
   "cell_type": "code",
   "execution_count": 0,
   "metadata": {
    "ExecuteTime": {
     "end_time": "2018-11-07T16:16:27.284265Z",
     "start_time": "2018-11-07T16:16:27.184294Z"
    },
    "colab": {},
    "colab_type": "code",
    "collapsed": true,
    "id": "RRV13Q2Asa7C"
   },
   "outputs": [],
   "source": [
    "BATCH_SIZE = 128\n",
    "STEPS_PER_EPOCH = 500\n",
    "EPOCHS = 50\n",
    "\n",
    "s = reset_tf_session()  # clear default graph\n",
    "model = make_model()  # define our model\n",
    "\n",
    "# prepare model for fitting (loss, optimizer, etc)\n",
    "model.compile(\n",
    "    loss='categorical_crossentropy',\n",
    "    optimizer=keras.optimizers.adam(clipnorm=5.),  # gradient clipping just in case\n",
    "    metrics=[categorical_accuracy, top_3_accuracy]  # report top 3 accuracy, correlates with MAP@3!\n",
    ")"
   ]
  },
  {
   "cell_type": "code",
   "execution_count": 0,
   "metadata": {
    "ExecuteTime": {
     "end_time": "2018-11-07T16:20:03.725667Z",
     "start_time": "2018-11-07T16:20:03.715510Z"
    },
    "colab": {},
    "colab_type": "code",
    "collapsed": true,
    "id": "5DmLYQY_sa7F"
   },
   "outputs": [],
   "source": [
    "# for saving the model after every epoch\n",
    "from keras.models import save_model\n",
    "\n",
    "class ModelSaveCallback(keras.callbacks.Callback):\n",
    "    def __init__(self, file_name):\n",
    "        super(ModelSaveCallback, self).__init__()\n",
    "        self.file_name = file_name\n",
    "\n",
    "    def on_epoch_end(self, epoch, logs=None):\n",
    "        model_filename = self.file_name.format(epoch)\n",
    "        save_model(self.model, model_filename)\n",
    "        print(\"Model saved in {}\".format(model_filename))"
   ]
  },
  {
   "cell_type": "code",
   "execution_count": 0,
   "metadata": {
    "ExecuteTime": {
     "end_time": "2018-11-07T16:22:04.352396Z",
     "start_time": "2018-11-07T16:22:03.726954Z"
    },
    "colab": {},
    "colab_type": "code",
    "collapsed": true,
    "id": "NtI6UJdQsa7H"
   },
   "outputs": [],
   "source": [
    "last_finished_epoch = 41"
   ]
  },
  {
   "cell_type": "code",
   "execution_count": 25,
   "metadata": {
    "ExecuteTime": {
     "end_time": "2018-11-07T16:22:12.823711Z",
     "start_time": "2018-11-07T16:22:08.154274Z"
    },
    "colab": {
     "base_uri": "https://localhost:8080/",
     "height": 493
    },
    "colab_type": "code",
    "id": "YKpU9VFVsa7K",
    "outputId": "619f52d9-4205-412c-c1c3-c70556e02554"
   },
   "outputs": [
    {
     "name": "stdout",
     "output_type": "stream",
     "text": [
      "Epoch 42/50\n",
      "500/500 [==============================] - 208s 416ms/step - loss: 1.9314 - categorical_accuracy: 0.5399 - top_3_accuracy: 0.7395\n",
      "Model saved in model_41\n",
      "Epoch 43/50\n",
      "500/500 [==============================] - 208s 416ms/step - loss: 1.9271 - categorical_accuracy: 0.5423 - top_3_accuracy: 0.7412\n",
      "Model saved in model_42\n",
      "Epoch 44/50\n",
      "500/500 [==============================] - 208s 416ms/step - loss: 1.9272 - categorical_accuracy: 0.5417 - top_3_accuracy: 0.7382\n",
      "Model saved in model_43\n",
      "Epoch 45/50\n",
      "500/500 [==============================] - 208s 417ms/step - loss: 1.9130 - categorical_accuracy: 0.5449 - top_3_accuracy: 0.7424\n",
      "Model saved in model_44\n",
      "Epoch 46/50\n",
      "500/500 [==============================] - 209s 417ms/step - loss: 1.9099 - categorical_accuracy: 0.5460 - top_3_accuracy: 0.7428\n",
      "Model saved in model_45\n",
      "Epoch 47/50\n",
      "500/500 [==============================] - 210s 420ms/step - loss: 1.9004 - categorical_accuracy: 0.5456 - top_3_accuracy: 0.7448\n",
      "Model saved in model_46\n",
      "Epoch 48/50\n",
      "500/500 [==============================] - 209s 418ms/step - loss: 1.8910 - categorical_accuracy: 0.5501 - top_3_accuracy: 0.7479\n",
      "Model saved in model_47\n",
      "Epoch 49/50\n",
      "500/500 [==============================] - 209s 418ms/step - loss: 1.9007 - categorical_accuracy: 0.5462 - top_3_accuracy: 0.7458\n",
      "Model saved in model_48\n",
      "Epoch 50/50\n",
      "500/500 [==============================] - 208s 417ms/step - loss: 1.8868 - categorical_accuracy: 0.5513 - top_3_accuracy: 0.7491\n",
      "Model saved in model_49\n"
     ]
    },
    {
     "data": {
      "text/plain": [
       "<keras.callbacks.History at 0x7fae62fe46d0>"
      ]
     },
     "execution_count": 25,
     "metadata": {
      "tags": []
     },
     "output_type": "execute_result"
    }
   ],
   "source": [
    "# fit the model with our eternal generator!\n",
    "model.fit_generator(\n",
    "    train_iterator(BATCH_SIZE), \n",
    "    steps_per_epoch=STEPS_PER_EPOCH,\n",
    "    epochs=EPOCHS,\n",
    "    callbacks=[ModelSaveCallback(\"model_{}\")],\n",
    "    verbose=1,\n",
    "    initial_epoch=last_finished_epoch\n",
    ")"
   ]
  },
  {
   "cell_type": "markdown",
   "metadata": {
    "colab_type": "text",
    "id": "GEvPPfXzsa7Q"
   },
   "source": [
    "# Score test set"
   ]
  },
  {
   "cell_type": "code",
   "execution_count": 26,
   "metadata": {
    "ExecuteTime": {
     "end_time": "2018-11-07T12:18:38.307707Z",
     "start_time": "2018-11-07T12:18:34.929466Z"
    },
    "colab": {
     "base_uri": "https://localhost:8080/",
     "height": 99
    },
    "colab_type": "code",
    "id": "brmo1cOYsa7R",
    "outputId": "d621d7bc-481b-43c6-8382-2ba736594a60"
   },
   "outputs": [
    {
     "name": "stdout",
     "output_type": "stream",
     "text": [
      "Downloading test_simplified.csv to /content\n",
      " 88% 52.0M/59.0M [00:00<00:00, 97.4MB/s]\n",
      "100% 59.0M/59.0M [00:00<00:00, 186MB/s] \n"
     ]
    }
   ],
   "source": [
    "# download test set\n",
    "! KAGGLE_USERNAME=vyhuholl KAGGLE_KEY=0aac65a3a06b20e5c68b8255b47f4036 kaggle competitions download -c quickdraw-doodle-recognition -f test_simplified.csv"
   ]
  },
  {
   "cell_type": "code",
   "execution_count": 0,
   "metadata": {
    "ExecuteTime": {
     "end_time": "2018-11-07T16:25:30.169624Z",
     "start_time": "2018-11-07T16:25:30.148875Z"
    },
    "colab": {},
    "colab_type": "code",
    "collapsed": true,
    "id": "cTHqZYggsa7V"
   },
   "outputs": [],
   "source": [
    "def test_csv_iterator(batch_size):\n",
    "    with open(\"test_simplified.csv\", \"r\") as f:\n",
    "        batch_keys = []\n",
    "        batch_images = []\n",
    "        f.readline()  # skip header\n",
    "        for line in csv.reader(f, delimiter=',', quotechar='\"'):\n",
    "            batch_keys.append(line[0])\n",
    "            batch_images.append(draw_it(line[2]))\n",
    "            if len(batch_images) == batch_size:\n",
    "                batch_images = np.stack(batch_images, axis=0)\n",
    "                batch_images = np.expand_dims(batch_images, -1)\n",
    "                batch_images = batch_images.astype('float32')\n",
    "                batch_images = keras.utils.to_categorical(batch_images, num_classes=NUM_CLASSES)\n",
    "                yield batch_keys, batch_images\n",
    "                batch_keys = []\n",
    "                batch_images = []\n",
    "        if batch_images:  # last batch\n",
    "            batch_images = np.stack(batch_images, axis=0)\n",
    "            batch_images = np.expand_dims(batch_images, -1)\n",
    "            batch_images = batch_images.astype('float32')\n",
    "            batch_images = keras.utils.to_categorical(batch_images, num_classes=NUM_CLASSES)\n",
    "            yield batch_keys, batch_images"
   ]
  },
  {
   "cell_type": "code",
   "execution_count": 28,
   "metadata": {
    "ExecuteTime": {
     "end_time": "2018-11-07T16:25:32.406415Z",
     "start_time": "2018-11-07T16:25:32.203842Z"
    },
    "colab": {
     "base_uri": "https://localhost:8080/",
     "height": 65
    },
    "colab_type": "code",
    "id": "pE0MCbmvsa7X",
    "outputId": "e852be03-ad92-4d9f-e248-465662aa6ac4"
   },
   "outputs": [
    {
     "name": "stdout",
     "output_type": "stream",
     "text": [
      "112200 test_simplified.csv\n"
     ]
    }
   ],
   "source": [
    "! wc -l test_simplified.csv"
   ]
  },
  {
   "cell_type": "code",
   "execution_count": 29,
   "metadata": {
    "ExecuteTime": {
     "end_time": "2018-11-07T16:26:30.259083Z",
     "start_time": "2018-11-07T16:25:32.579734Z"
    },
    "colab": {
     "base_uri": "https://localhost:8080/",
     "height": 34
    },
    "colab_type": "code",
    "id": "stAgYkG0sa7b",
    "outputId": "54474aa1-12b6-4f50-8eea-caa31d23fc91",
    "scrolled": true
   },
   "outputs": [
    {
     "name": "stderr",
     "output_type": "stream",
     "text": [
      "100%|██████████| 877/877.0 [11:08<00:00,  1.18it/s]\n"
     ]
    }
   ],
   "source": [
    "with open(\"submission.csv\", \"w\", buffering=1*1024*1024) as f:\n",
    "    f.write(\"key_id,word\\n\")\n",
    "    for batch_keys, batch_images in tqdm.tqdm(test_csv_iterator(BATCH_SIZE), total=np.ceil(112200./BATCH_SIZE)):\n",
    "        probas = model.predict_proba(batch_images, BATCH_SIZE)\n",
    "        top_3_classes = np.argsort(probas, axis=1)[:, [-1, -2, -3]]\n",
    "        labels = map(lambda x: \" \".join(\"_\".join(class_labels[idx].split()) for idx in x), top_3_classes)\n",
    "        for key, labels in zip(batch_keys, labels):\n",
    "            f.write(key + \",\" + labels + \"\\n\")"
   ]
  },
  {
   "cell_type": "code",
   "execution_count": 31,
   "metadata": {
    "colab": {
     "base_uri": "https://localhost:8080/",
     "height": 65
    },
    "colab_type": "code",
    "id": "SxBNu3si1jar",
    "outputId": "eed6e0de-69b4-49db-f849-c7e515cd299c"
   },
   "outputs": [
    {
     "name": "stdout",
     "output_type": "stream",
     "text": [
      "100% 4.42M/4.42M [00:02<00:00, 2.05MB/s]\n",
      "Successfully submitted to Quick, Draw! Doodle Recognition Challenge"
     ]
    }
   ],
   "source": [
    "! KAGGLE_USERNAME=<user> KAGGLE_KEY=<token> kaggle competitions submit quickdraw-doodle-recognition -f submission.csv -m \"CNN witn MAP@3 > 0.7\""
   ]
  },
  {
   "cell_type": "code",
   "execution_count": 0,
   "metadata": {
    "colab": {},
    "colab_type": "code",
    "collapsed": true,
    "id": "iqmeOmFY4PuT"
   },
   "outputs": [],
   "source": []
  }
 ],
 "metadata": {
  "accelerator": "GPU",
  "colab": {
   "name": "Copy of minor_hw_1.ipynb",
   "provenance": [],
   "version": "0.3.2"
  },
  "kernelspec": {
   "display_name": "Python 3",
   "language": "python",
   "name": "python3"
  },
  "language_info": {
   "codemirror_mode": {
    "name": "ipython",
    "version": 3
   },
   "file_extension": ".py",
   "mimetype": "text/x-python",
   "name": "python",
   "nbconvert_exporter": "python",
   "pygments_lexer": "ipython3",
   "version": "3.6.3"
  }
 },
 "nbformat": 4,
 "nbformat_minor": 1
}
